{
 "cells": [
  {
   "cell_type": "code",
   "execution_count": 279,
   "metadata": {},
   "outputs": [
    {
     "name": "stdout",
     "output_type": "stream",
     "text": [
      "         tps  latency_READ\n",
      "0    87624.7         305.0\n",
      "1    86652.8         339.0\n",
      "2    86010.4         431.0\n",
      "3    79557.0         362.0\n",
      "4    83238.3         398.0\n",
      "..       ...           ...\n",
      "995  84583.0         328.0\n",
      "996  92383.8         309.0\n",
      "997  88124.3         379.0\n",
      "998  79968.6         363.0\n",
      "999  81131.2         297.0\n",
      "\n",
      "[1000 rows x 2 columns]\n"
     ]
    }
   ],
   "source": [
    "from glob import glob\n",
    "import numpy as np\n",
    "import matplotlib.pyplot as plt\n",
    "import pandas as pd\n",
    "from sklearn.cluster import KMeans\n",
    "from sklearn.metrics import silhouette_samples, silhouette_score\n",
    "\n",
    "import os\n",
    "import glob\n",
    "import sys\n",
    "os.chdir(\"../data\")\n",
    "sys.path.append('home/sein/ksc_model/data/A-1/configs/A-1')\n",
    "dir_list = glob.glob('A-1/configs/A-1/*.cnf')\n",
    "df = pd.read_csv('A-1/result/external_metrics.csv')\n",
    "tplt_df = df[['tps','latency_READ']]\n",
    "\n",
    "\n",
    "print(tplt_df)"
   ]
  },
  {
   "cell_type": "code",
   "execution_count": 149,
   "metadata": {},
   "outputs": [
    {
     "data": {
      "text/html": [
       "<div>\n",
       "<style scoped>\n",
       "    .dataframe tbody tr th:only-of-type {\n",
       "        vertical-align: middle;\n",
       "    }\n",
       "\n",
       "    .dataframe tbody tr th {\n",
       "        vertical-align: top;\n",
       "    }\n",
       "\n",
       "    .dataframe thead th {\n",
       "        text-align: right;\n",
       "    }\n",
       "</style>\n",
       "<table border=\"1\" class=\"dataframe\">\n",
       "  <thead>\n",
       "    <tr style=\"text-align: right;\">\n",
       "      <th></th>\n",
       "      <th>tps</th>\n",
       "      <th>latency_READ</th>\n",
       "    </tr>\n",
       "  </thead>\n",
       "  <tbody>\n",
       "    <tr>\n",
       "      <th>0</th>\n",
       "      <td>87624.7</td>\n",
       "      <td>305.0</td>\n",
       "    </tr>\n",
       "    <tr>\n",
       "      <th>1</th>\n",
       "      <td>86652.8</td>\n",
       "      <td>339.0</td>\n",
       "    </tr>\n",
       "    <tr>\n",
       "      <th>2</th>\n",
       "      <td>86010.4</td>\n",
       "      <td>431.0</td>\n",
       "    </tr>\n",
       "    <tr>\n",
       "      <th>3</th>\n",
       "      <td>79557.0</td>\n",
       "      <td>362.0</td>\n",
       "    </tr>\n",
       "    <tr>\n",
       "      <th>4</th>\n",
       "      <td>83238.3</td>\n",
       "      <td>398.0</td>\n",
       "    </tr>\n",
       "    <tr>\n",
       "      <th>...</th>\n",
       "      <td>...</td>\n",
       "      <td>...</td>\n",
       "    </tr>\n",
       "    <tr>\n",
       "      <th>995</th>\n",
       "      <td>84583.0</td>\n",
       "      <td>328.0</td>\n",
       "    </tr>\n",
       "    <tr>\n",
       "      <th>996</th>\n",
       "      <td>92383.8</td>\n",
       "      <td>309.0</td>\n",
       "    </tr>\n",
       "    <tr>\n",
       "      <th>997</th>\n",
       "      <td>88124.3</td>\n",
       "      <td>379.0</td>\n",
       "    </tr>\n",
       "    <tr>\n",
       "      <th>998</th>\n",
       "      <td>79968.6</td>\n",
       "      <td>363.0</td>\n",
       "    </tr>\n",
       "    <tr>\n",
       "      <th>999</th>\n",
       "      <td>81131.2</td>\n",
       "      <td>297.0</td>\n",
       "    </tr>\n",
       "  </tbody>\n",
       "</table>\n",
       "<p>1000 rows × 2 columns</p>\n",
       "</div>"
      ],
      "text/plain": [
       "         tps  latency_READ\n",
       "0    87624.7         305.0\n",
       "1    86652.8         339.0\n",
       "2    86010.4         431.0\n",
       "3    79557.0         362.0\n",
       "4    83238.3         398.0\n",
       "..       ...           ...\n",
       "995  84583.0         328.0\n",
       "996  92383.8         309.0\n",
       "997  88124.3         379.0\n",
       "998  79968.6         363.0\n",
       "999  81131.2         297.0\n",
       "\n",
       "[1000 rows x 2 columns]"
      ]
     },
     "execution_count": 149,
     "metadata": {},
     "output_type": "execute_result"
    }
   ],
   "source": [
    "df[['tps','latency_READ']]"
   ]
  },
  {
   "cell_type": "code",
   "execution_count": 137,
   "metadata": {},
   "outputs": [
    {
     "data": {
      "text/plain": [
       "Text(0, 0.5, 'latency')"
      ]
     },
     "execution_count": 137,
     "metadata": {},
     "output_type": "execute_result"
    },
    {
     "data": {
      "image/png": "[encoded data removed]",
      "text/plain": [
       "<Figure size 640x480 with 1 Axes>"
      ]
     },
     "metadata": {},
     "output_type": "display_data"
    }
   ],
   "source": [
    "plt.scatter(df['tps'],df['latency_READ'])\n",
    "plt.xlabel('tps')\n",
    "plt.ylabel('latency')\n",
    "#plt.show()"
   ]
  },
  {
   "cell_type": "code",
   "execution_count": 271,
   "metadata": {},
   "outputs": [
    {
     "name": "stdout",
     "output_type": "stream",
     "text": [
      "          tps  latency_READ  cluster\n",
      "0    0.891390      0.005388        0\n",
      "1    0.879652      0.006776        0\n",
      "2    0.871894      0.010531        0\n",
      "3    0.793953      0.007715        0\n",
      "4    0.838414      0.009184        0\n",
      "..        ...           ...      ...\n",
      "995  0.854654      0.006327        0\n",
      "996  0.948869      0.005551        0\n",
      "997  0.897424      0.008409        0\n",
      "998  0.798924      0.007756        0\n",
      "999  0.812965      0.005062        0\n",
      "\n",
      "[1000 rows x 3 columns]\n"
     ]
    }
   ],
   "source": [
    "### DBSCAN -------------------------------------------------------------------------------\n",
    "from sklearn.cluster import DBSCAN\n",
    "import matplotlib.pyplot  as plt\n",
    "from sklearn.preprocessing import MinMaxScaler\n",
    "\n",
    "tplt_df = df[['tps','latency_READ']]\n",
    "\n",
    "scaler = MinMaxScaler()\n",
    "data_scale = pd.DataFrame(scaler.fit_transform(tplt_df), columns = tplt_df.columns)\n",
    "\n",
    "model=DBSCAN(eps =0.5, min_samples=10)\n",
    "\n",
    "model.fit(data_scale)\n",
    "data_scale['cluster'] = model.fit_predict(data_scale)\n",
    "\n",
    "print(data_scale)\n"
   ]
  },
  {
   "cell_type": "code",
   "execution_count": 272,
   "metadata": {},
   "outputs": [
    {
     "data": {
      "image/png": "[encoded data removed]",
      "text/plain": [
       "<Figure size 800x800 with 1 Axes>"
      ]
     },
     "metadata": {},
     "output_type": "display_data"
    }
   ],
   "source": [
    "### DBSCAN -------------------------------------------------------------------------------\n",
    "import matplotlib.pyplot as plt\n",
    "\n",
    "plt.figure(figsize = (8, 8))\n",
    "\n",
    "# 이상치 번호는 -1, 클러스터 최대 숫자까지 iteration\n",
    "# for i in range(-1, predict.max() + 1):\n",
    "#     plt.scatter(predict.loc[predict == i, 'tps'], predict.loc[predict == i, 'Spending Score (1-100)'], \n",
    "#                     label = 'cluster ' + str(i))\n",
    "for i in range(-1, data_scale['cluster'].max() + 1):\n",
    "    plt.scatter(data_scale.loc[data_scale['cluster'] == i, 'tps'], data_scale.loc[data_scale['cluster']==i,'latency_READ'], \n",
    "                label = 'cluster' + str(i))\n",
    "plt.legend()\n",
    "plt.title('eps = 0.5, min_samples = 10', size = 15)\n",
    "plt.xlabel('tps')\n",
    "plt.ylabel('latency')\n",
    "plt.show()"
   ]
  },
  {
   "cell_type": "code",
   "execution_count": 156,
   "metadata": {},
   "outputs": [
    {
     "name": "stdout",
     "output_type": "stream",
     "text": [
      "silhouette_samples() return 값의 shape (1000,)\n",
      "silhouette analysis score:\n"
     ]
    },
    {
     "name": "stderr",
     "output_type": "stream",
     "text": [
      "/tmp/ipykernel_12315/1602548919.py:19: SettingWithCopyWarning: \n",
      "A value is trying to be set on a copy of a slice from a DataFrame.\n",
      "Try using .loc[row_indexer,col_indexer] = value instead\n",
      "\n",
      "See the caveats in the documentation: https://pandas.pydata.org/pandas-docs/stable/user_guide/indexing.html#returning-a-view-versus-a-copy\n",
      "  tplt_df['cluster'] = kmeans.labels_\n",
      "/tmp/ipykernel_12315/1602548919.py:26: SettingWithCopyWarning: \n",
      "A value is trying to be set on a copy of a slice from a DataFrame.\n",
      "Try using .loc[row_indexer,col_indexer] = value instead\n",
      "\n",
      "See the caveats in the documentation: https://pandas.pydata.org/pandas-docs/stable/user_guide/indexing.html#returning-a-view-versus-a-copy\n",
      "  tplt_df['silhouette_coeff'] = score_samples\n"
     ]
    },
    {
     "data": {
      "text/plain": [
       "cluster\n",
       "0    0.526839\n",
       "1    0.597209\n",
       "2    0.713581\n",
       "3    0.433084\n",
       "Name: silhouette_coeff, dtype: float64"
      ]
     },
     "execution_count": 156,
     "metadata": {},
     "output_type": "execute_result"
    }
   ],
   "source": [
    "###실루엣 -------------------------------------\n",
    "from sklearn.preprocessing import MinMaxScaler\n",
    "\n",
    "tplt_df = df[['tps','latency_READ']]\n",
    "#데이터 전처리 MINMAX\n",
    "scaler = MinMaxScaler()\n",
    "data_scale = scaler.fit_transform(tplt_df)\n",
    "\n",
    "#데이터 전처리 \n",
    "# scaler = StandardScaler()\n",
    "# data_scale = scaler.fit_transform(tplt_df)\n",
    "\n",
    "\n",
    "\n",
    "\n",
    "k = 4\n",
    "\n",
    "kmeans= KMeans(n_clusters=k, random_state=10).fit(data_scale)\n",
    "# model.fit(data_scale)\n",
    "tplt_df['cluster'] = kmeans.labels_\n",
    "# tplt_df.loc[4]\n",
    "tplt_df.to_csv(\"clustering2.csv\")\n",
    "\n",
    "score_samples = silhouette_samples(data_scale, tplt_df['cluster'])\n",
    "print('silhouette_samples() return 값의 shape', score_samples.shape)\n",
    "\n",
    "tplt_df['silhouette_coeff'] = score_samples\n",
    "\n",
    "average_score = silhouette_score(data_scale, tplt_df['cluster'])\n",
    "print('silhouette analysis score:'.format(average_score))\n",
    "\n",
    "tplt_df.head(5)\n",
    "\n",
    "tplt_df.groupby('cluster')['silhouette_coeff'].mean()"
   ]
  },
  {
   "cell_type": "code",
   "execution_count": 157,
   "metadata": {},
   "outputs": [],
   "source": [
    "### 여러개의 클러스터링 갯수를 List로 입력 받아 각각의 실루엣 계수를 면적으로 시각화한 함수 작성\n",
    "def visualize_silhouette(cluster_lists, X_features): \n",
    "\n",
    "#     from sklearn.datasets import make_blobs\n",
    "    from sklearn.cluster import KMeans\n",
    "    from sklearn.metrics import silhouette_samples, silhouette_score\n",
    "\n",
    "    import matplotlib.pyplot as plt\n",
    "    import matplotlib.cm as cm\n",
    "    import math\n",
    "\n",
    "    # 입력값으로 클러스터링 갯수들을 리스트로 받아서, 각 갯수별로 클러스터링을 적용하고 실루엣 개수를 구함\n",
    "    n_cols = len(cluster_lists)\n",
    "\n",
    "    # plt.subplots()으로 리스트에 기재된 클러스터링 수만큼의 sub figures를 가지는 axs 생성 \n",
    "    fig, axs = plt.subplots(figsize=(4*n_cols, 4), nrows=1, ncols=n_cols)\n",
    "\n",
    "    # 리스트에 기재된 클러스터링 갯수들을 차례로 iteration 수행하면서 실루엣 개수 시각화\n",
    "    for ind, n_cluster in enumerate(cluster_lists):\n",
    "\n",
    "        # KMeans 클러스터링 수행하고, 실루엣 스코어와 개별 데이터의 실루엣 값 계산. \n",
    "        clusterer = KMeans(n_clusters = n_cluster, random_state=10)\n",
    "        cluster_labels = clusterer.fit_predict(X_features)\n",
    "\n",
    "        sil_avg = silhouette_score(X_features, cluster_labels)\n",
    "        sil_values = silhouette_samples(X_features, cluster_labels)\n",
    "\n",
    "        y_lower = 10\n",
    "        axs[ind].set_title('Number of Cluster : '+ str(n_cluster)+'\\n' \\\n",
    "                          'Silhouette Score :' + str(round(sil_avg,3)) )\n",
    "        axs[ind].set_xlabel(\"The silhouette coefficient values\")\n",
    "        axs[ind].set_ylabel(\"Cluster label\")\n",
    "        axs[ind].set_xlim([-0.1, 1])\n",
    "        axs[ind].set_ylim([0, len(X_features) + (n_cluster + 1) * 10])\n",
    "        axs[ind].set_yticks([])  # Clear the yaxis labels / ticks\n",
    "        axs[ind].set_xticks([0, 0.2, 0.4, 0.6, 0.8, 1])\n",
    "\n",
    "        # 클러스터링 갯수별로 fill_betweenx( )형태의 막대 그래프 표현. \n",
    "        for i in range(n_cluster):\n",
    "            ith_cluster_sil_values = sil_values[cluster_labels==i]\n",
    "            ith_cluster_sil_values.sort()\n",
    "\n",
    "            size_cluster_i = ith_cluster_sil_values.shape[0]\n",
    "            y_upper = y_lower + size_cluster_i\n",
    "\n",
    "            color = cm.nipy_spectral(float(i) / n_cluster)\n",
    "            axs[ind].fill_betweenx(np.arange(y_lower, y_upper), 0, ith_cluster_sil_values, \\\n",
    "                                facecolor=color, edgecolor=color, alpha=0.7)\n",
    "            axs[ind].text(-0.05, y_lower + 0.5 * size_cluster_i, str(i))\n",
    "            y_lower = y_upper + 10\n",
    "\n",
    "        axs[ind].axvline(x=sil_avg, color=\"red\", linestyle=\"--\")"
   ]
  },
  {
   "cell_type": "code",
   "execution_count": 162,
   "metadata": {
    "scrolled": true
   },
   "outputs": [
    {
     "data": {
      "image/png": "[encoded data removed]",
      "text/plain": [
       "<Figure size 1600x400 with 4 Axes>"
      ]
     },
     "metadata": {},
     "output_type": "display_data"
    }
   ],
   "source": [
    "###cluster 개수 확인 - 실루엣 계수\n",
    "import numpy as np\n",
    "# make_blobs 을 통해 clustering 을 위한 4개의 클러스터 중심의 500개 2차원 데이터 셋 생성  \n",
    "from sklearn.datasets import make_blobs\n",
    "\n",
    "# cluster 개수를 2개, 3개, 4개, 5개 일때의 클러스터별 실루엣 계수 평균값을 시각화 \n",
    "visualize_silhouette([ 4,5,6,7], tplt_df)"
   ]
  },
  {
   "cell_type": "code",
   "execution_count": 280,
   "metadata": {},
   "outputs": [
    {
     "name": "stderr",
     "output_type": "stream",
     "text": [
      "/tmp/ipykernel_12315/711006137.py:17: SettingWithCopyWarning: \n",
      "A value is trying to be set on a copy of a slice from a DataFrame.\n",
      "Try using .loc[row_indexer,col_indexer] = value instead\n",
      "\n",
      "See the caveats in the documentation: https://pandas.pydata.org/pandas-docs/stable/user_guide/indexing.html#returning-a-view-versus-a-copy\n",
      "  tplt_df['cluster'] = model.fit_predict(data_scale)\n"
     ]
    },
    {
     "data": {
      "image/png": "[encoded data removed]",
      "text/plain": [
       "<Figure size 640x480 with 1 Axes>"
      ]
     },
     "metadata": {},
     "output_type": "display_data"
    }
   ],
   "source": [
    "#수정---------------------------------------------------------\n",
    "from sklearn.preprocessing import MinMaxScaler\n",
    "\n",
    "\n",
    "#데이터 전처리 MINMAX\n",
    "scaler = MinMaxScaler()\n",
    "data_scale = scaler.fit_transform(tplt_df)\n",
    "\n",
    "#데이터 전처리 \n",
    "# scaler = StandardScaler()\n",
    "# data_scale = scaler.fit_transform(tplt_df)\n",
    "\n",
    "k = 4\n",
    "\n",
    "model = KMeans(n_clusters = k, random_state = 10)\n",
    "model.fit(data_scale)\n",
    "tplt_df['cluster'] = model.fit_predict(data_scale)\n",
    "# df['cluster'] = model.fit_predict(data_scale)\n",
    "# tplt_df.to_csv(\"clustering2.csv\")\n",
    "# df['cluster'] = model.fit_predict(data_scale)\n",
    "# df.to_csv(\"clustering.csv\")\n",
    "\n",
    "for i in range(k):\n",
    "    plt.scatter(tplt_df.loc[tplt_df['cluster'] == i, 'tps'], tplt_df.loc[tplt_df['cluster']==i,'latency_READ'], \n",
    "                label = 'cluster' + str(i))\n",
    "\n",
    "plt.legend()\n",
    "plt.title('K = %d results'%k)\n",
    "plt.xlabel('tps')\n",
    "plt.ylabel('latency')\n",
    "plt.show()"
   ]
  },
  {
   "cell_type": "code",
   "execution_count": 281,
   "metadata": {},
   "outputs": [
    {
     "data": {
      "text/plain": [
       "array([[0.89139041, 0.00538819],\n",
       "       [0.87965226, 0.00677606],\n",
       "       [0.87189366, 0.01053147],\n",
       "       ...,\n",
       "       [0.89742435, 0.00840885],\n",
       "       [0.79892365, 0.00775574],\n",
       "       [0.81296498, 0.00506164]])"
      ]
     },
     "execution_count": 281,
     "metadata": {},
     "output_type": "execute_result"
    }
   ],
   "source": [
    "data_scale"
   ]
  },
  {
   "cell_type": "code",
   "execution_count": 282,
   "metadata": {},
   "outputs": [
    {
     "name": "stdout",
     "output_type": "stream",
     "text": [
      "         tps  latency_READ  cluster\n",
      "0    87624.7         305.0        1\n",
      "1    86652.8         339.0        1\n",
      "2    86010.4         431.0        1\n",
      "3    79557.0         362.0        0\n",
      "4    83238.3         398.0        0\n",
      "..       ...           ...      ...\n",
      "995  84583.0         328.0        1\n",
      "996  92383.8         309.0        1\n",
      "997  88124.3         379.0        1\n",
      "998  79968.6         363.0        0\n",
      "999  81131.2         297.0        0\n",
      "\n",
      "[1000 rows x 3 columns]\n"
     ]
    },
    {
     "name": "stderr",
     "output_type": "stream",
     "text": [
      "/tmp/ipykernel_12315/67273392.py:1: SettingWithCopyWarning: \n",
      "A value is trying to be set on a copy of a slice from a DataFrame.\n",
      "Try using .loc[row_indexer,col_indexer] = value instead\n",
      "\n",
      "See the caveats in the documentation: https://pandas.pydata.org/pandas-docs/stable/user_guide/indexing.html#returning-a-view-versus-a-copy\n",
      "  tplt_df['cluster'] = model.fit_predict(data_scale)\n"
     ]
    }
   ],
   "source": [
    "tplt_df['cluster'] = model.fit_predict(data_scale)\n",
    "tplt_df.to_csv(\"clustering2.csv\")\n",
    "\n",
    "print(tplt_df)"
   ]
  },
  {
   "cell_type": "code",
   "execution_count": 187,
   "metadata": {},
   "outputs": [
    {
     "name": "stderr",
     "output_type": "stream",
     "text": [
      "/tmp/ipykernel_12315/3675150967.py:1: SettingWithCopyWarning: \n",
      "A value is trying to be set on a copy of a slice from a DataFrame.\n",
      "Try using .loc[row_indexer,col_indexer] = value instead\n",
      "\n",
      "See the caveats in the documentation: https://pandas.pydata.org/pandas-docs/stable/user_guide/indexing.html#returning-a-view-versus-a-copy\n",
      "  tplt_df['cluster'] = model.fit_predict(data_scale)\n"
     ]
    }
   ],
   "source": [
    "tplt_df['cluster'] = model.fit_predict(data_scale)\n",
    "tplt_df.to_csv(\"clustering2.csv\")"
   ]
  },
  {
   "cell_type": "code",
   "execution_count": 188,
   "metadata": {},
   "outputs": [
    {
     "name": "stdout",
     "output_type": "stream",
     "text": [
      "     Unnamed: 0      tps  latency_READ  cluster_0  cluster_1  cluster_2  \\\n",
      "0             0  87624.7         305.0          1          0          0   \n",
      "1             1  86652.8         339.0          1          0          0   \n",
      "2             2  86010.4         431.0          1          0          0   \n",
      "3             3  79557.0         362.0          0          1          0   \n",
      "4             4  83238.3         398.0          0          1          0   \n",
      "..          ...      ...           ...        ...        ...        ...   \n",
      "995         995  84583.0         328.0          1          0          0   \n",
      "996         996  92383.8         309.0          1          0          0   \n",
      "997         997  88124.3         379.0          1          0          0   \n",
      "998         998  79968.6         363.0          0          1          0   \n",
      "999         999  81131.2         297.0          0          1          0   \n",
      "\n",
      "     cluster_3  \n",
      "0            0  \n",
      "1            0  \n",
      "2            0  \n",
      "3            0  \n",
      "4            0  \n",
      "..         ...  \n",
      "995          0  \n",
      "996          0  \n",
      "997          0  \n",
      "998          0  \n",
      "999          0  \n",
      "\n",
      "[1000 rows x 7 columns]\n"
     ]
    }
   ],
   "source": [
    "clus=pd.read_csv(\"clustering2.csv\")\n",
    "one_hot = pd.get_dummies(clus, columns=['cluster'])\n",
    "print(one_hot)"
   ]
  },
  {
   "cell_type": "code",
   "execution_count": 41,
   "metadata": {},
   "outputs": [],
   "source": [
    "from glob import glob\n",
    "import numpy as np\n",
    "import matplotlib.pyplot as plt\n",
    "import pandas as pd\n",
    "from sklearn.cluster import KMeans\n",
    "\n",
    "\n",
    "import os\n",
    "import glob\n",
    "import sys\n",
    "\n",
    "wk = 'B-1'\n",
    "\n",
    "os.chdir(\"../data\")\n",
    "sys.path.append(f'home/sein/ksc_model/data/{wk}/b/configs')\n",
    "dir_list = glob.glob(f'{wk}/b/configs/*.cnf')\n",
    "df = pd.read_csv(f'{wk}/b/results/{wk}/external_metrics.csv')\n",
    "tplt_df = df[['tps','latency_READ']]\n"
   ]
  },
  {
   "cell_type": "code",
   "execution_count": 9,
   "metadata": {},
   "outputs": [
    {
     "data": {
      "image/png": "[encoded data removed]",
      "text/plain": [
       "<Figure size 432x288 with 1 Axes>"
      ]
     },
     "metadata": {
      "needs_background": "light"
     },
     "output_type": "display_data"
    }
   ],
   "source": [
    "plt.scatter(df['tps'], df['latency_READ'])\n",
    "plt.xlabel('tps')\n",
    "plt.ylabel('latency')\n",
    "#plt.show()"
   ]
  },
  {
   "cell_type": "code",
   "execution_count": 42,
   "metadata": {},
   "outputs": [
    {
     "data": {
      "image/png": "[encoded data removed]",
      "text/plain": [
       "<Figure size 432x288 with 1 Axes>"
      ]
     },
     "metadata": {
      "needs_background": "light"
     },
     "output_type": "display_data"
    }
   ],
   "source": [
    "from sklearn.preprocessing import MinMaxScaler\n",
    "\n",
    "scaler = MinMaxScaler()\n",
    "data_scale = scaler.fit_transform(tplt_df)\n",
    "\n",
    "k = 4\n",
    "\n",
    "model = KMeans(n_clusters = k, random_state = 10)\n",
    "model.fit(data_scale)\n",
    "df['cluster'] = model.fit_predict(data_scale)\n",
    "\n",
    "for i in range(k):\n",
    "    plt.scatter(df.loc[df['cluster'] == i, 'tps'], df.loc[df['cluster']==i,'latency_READ'], \n",
    "                label = 'cluster' + str(i))\n",
    "\n",
    "plt.legend()\n",
    "plt.title('K = %d results'%k)\n",
    "plt.xlabel('tps')\n",
    "plt.ylabel('latency')\n",
    "plt.show()"
   ]
  },
  {
   "cell_type": "code",
   "execution_count": 44,
   "metadata": {},
   "outputs": [],
   "source": [
    "from glob import glob\n",
    "import numpy as np\n",
    "import matplotlib.pyplot as plt\n",
    "import pandas as pd\n",
    "from sklearn.cluster import KMeans\n",
    "\n",
    "\n",
    "import os\n",
    "import glob\n",
    "import sys\n",
    "\n",
    "wk = 'C-1'\n",
    "\n",
    "os.chdir(\"../data\")\n",
    "sys.path.append(f'home/sein/ksc_model/data/{wk}/c/configs')\n",
    "dir_list = glob.glob(f'{wk}/c/configs/*.cnf')\n",
    "df = pd.read_csv(f'{wk}/c/results/{wk}/external_metrics.csv')\n",
    "tplt_df = df[['tps','latency_READ']]"
   ]
  },
  {
   "cell_type": "code",
   "execution_count": 46,
   "metadata": {},
   "outputs": [
    {
     "data": {
      "image/png": "[encoded data removed]",
      "text/plain": [
       "<Figure size 432x288 with 1 Axes>"
      ]
     },
     "metadata": {
      "needs_background": "light"
     },
     "output_type": "display_data"
    }
   ],
   "source": [
    "from sklearn.preprocessing import MinMaxScaler\n",
    "\n",
    "scaler = MinMaxScaler()\n",
    "data_scale = scaler.fit_transform(tplt_df)\n",
    "\n",
    "k = 4\n",
    "\n",
    "model = KMeans(n_clusters = k, random_state = 10)\n",
    "model.fit(data_scale)\n",
    "df['cluster'] = model.fit_predict(data_scale)\n",
    "\n",
    "for i in range(k):\n",
    "    plt.scatter(df.loc[df['cluster'] == i, 'tps'], df.loc[df['cluster']==i,'latency_READ'], \n",
    "                label = 'cluster' + str(i))\n",
    "\n",
    "plt.legend()\n",
    "plt.title('K = %d results'%k)\n",
    "plt.xlabel('tps')\n",
    "plt.ylabel('latency')\n",
    "plt.show()"
   ]
  },
  {
   "cell_type": "code",
   "execution_count": null,
   "metadata": {},
   "outputs": [],
   "source": [
    "df['cluster'] = model.fit_predict(data_scale)\n",
    "df.to_csv(\"clustering2.csv\")\n",
    "\n",
    "tplt_df['cluster'] = model.fit_predict(data_scale)\n",
    "df.to_csv(\"clustering2.csv\")"
   ]
  },
  {
   "cell_type": "code",
   "execution_count": 45,
   "metadata": {},
   "outputs": [
    {
     "data": {
      "image/png": "[encoded data removed]",
      "text/plain": [
       "<Figure size 432x288 with 1 Axes>"
      ]
     },
     "metadata": {
      "needs_background": "light"
     },
     "output_type": "display_data"
    }
   ],
   "source": [
    "plt.scatter(df['tps'], df['latency_READ'])\n",
    "plt.xlabel('tps')\n",
    "plt.ylabel('latency')\n",
    "plt.show()"
   ]
  },
  {
   "cell_type": "code",
   "execution_count": 9,
   "metadata": {},
   "outputs": [
    {
     "name": "stdout",
     "output_type": "stream",
     "text": [
      "             0           1  2   3   4    5  6   7    8   9   10    11    12  \\\n",
      "0    1042796691  2883419557  1  45  53  765  0  22  598  75  38   101  5382   \n",
      "1     905101515  5239633151  1   7  16  975  1   6  173  82  69   338  1713   \n",
      "2     664998833  2974372716  0  33  43  810  1  49  974  73  77   808   661   \n",
      "3     770902017  8393825869  1  37  59  246  0  19  601  97  34  1022  6719   \n",
      "4     235421136  6822829718  1  32  47  805  1  29  885   5  18   481  3448   \n",
      "..          ...         ... ..  ..  ..  ... ..  ..  ...  ..  ..   ...   ...   \n",
      "995     5620114  7363467346  0  47  37  122  0  24  890  42  90   968  7952   \n",
      "996  1054678359  4592754986  0  27  40  134  1  56  726  67  91   758  1645   \n",
      "997    16133228  4480649574  1   7   8   18  1  16  374  71  44   201  5310   \n",
      "998   380390570  3150986690  0  57  20  675  1  40  529  42  57   971   305   \n",
      "999   348998016  3447046224  1  46  14  358  1  23  491  16  90   544  8364   \n",
      "\n",
      "     13  14  15  16       17     18 19  \n",
      "0    31  57  41  33  1614225   7144  1  \n",
      "1     9  35  23  47  1316329  10230  1  \n",
      "2    23  23  53  38   429798   3067  0  \n",
      "3    15   8  55  33  1685566   3562  1  \n",
      "4     7  58  29  47    73051   9332  1  \n",
      "..   ..  ..  ..  ..      ...    ... ..  \n",
      "995  12  64  33  47   935026    650  1  \n",
      "996  23   8  54  10   121872    947  1  \n",
      "997   3  40  30  43   483417   3452  2  \n",
      "998   6  37  16  27   269067   2421  0  \n",
      "999  17   8  37  31  1609611   9567  1  \n",
      "\n",
      "[1000 rows x 20 columns]\n"
     ]
    }
   ],
   "source": [
    "# from glob import glob\n",
    "import numpy as np\n",
    "# import matplotlib.pyplot as plt\n",
    "import pandas as pd\n",
    "# from sklearn.cluster import KMeans\n",
    "import configparser\n",
    "import os\n",
    "import glob\n",
    "# import sys\n",
    "# #config 파일 가져오기 \n",
    "os.chdir(\"../data\")\n",
    "\n",
    "properties = configparser.ConfigParser()\n",
    "# sys.path.append('home/sein/ksc_model/data/A-1/configs/A-1')\n",
    "dir_list = glob.glob('A-1/configs/A-1/*.cnf')\n",
    "#mysqld = properties[\"mysqld\"]\n",
    "k = 0\n",
    "# print(properties['mysqld'])\n",
    "# print(properties['mysqld']['log-error'])\n",
    "fin_list = []\n",
    "for k in dir_list:\n",
    "    properties.read(k)\n",
    "    # print('---------------------------------------------------------------------')\n",
    "    # print(k)\n",
    "    # config_dict = {}\n",
    "    conf_list = []\n",
    "    for index, i in enumerate(properties['mysqld']):\n",
    "        if (index != 0)& (index != 1):\n",
    "            conf_list.append(properties['mysqld'][i]) \n",
    "        # print(\"key: \", i)\n",
    "        # print(\"values: \", properties['mysqld'][i])\n",
    "    # print(conf_list)\n",
    "    fin_list.append(conf_list)\n",
    "# print(np.array(fin_list).shape) \n",
    "rfin_array = np.array(fin_list)\n",
    "print(pd.DataFrame(rfin_array))\n",
    "\n"
   ]
  },
  {
   "cell_type": "code",
   "execution_count": 10,
   "metadata": {},
   "outputs": [
    {
     "data": {
      "text/plain": [
       "tensor([[1.0428e+09, 2.8834e+09, 1.0000e+00,  ..., 1.6142e+06, 7.1440e+03,\n",
       "         1.0000e+00],\n",
       "        [9.0510e+08, 5.2396e+09, 1.0000e+00,  ..., 1.3163e+06, 1.0230e+04,\n",
       "         1.0000e+00],\n",
       "        [6.6500e+08, 2.9744e+09, 0.0000e+00,  ..., 4.2980e+05, 3.0670e+03,\n",
       "         0.0000e+00],\n",
       "        ...,\n",
       "        [1.6133e+07, 4.4806e+09, 1.0000e+00,  ..., 4.8342e+05, 3.4520e+03,\n",
       "         2.0000e+00],\n",
       "        [3.8039e+08, 3.1510e+09, 0.0000e+00,  ..., 2.6907e+05, 2.4210e+03,\n",
       "         0.0000e+00],\n",
       "        [3.4900e+08, 3.4470e+09, 1.0000e+00,  ..., 1.6096e+06, 9.5670e+03,\n",
       "         1.0000e+00]], dtype=torch.float64)"
      ]
     },
     "execution_count": 10,
     "metadata": {},
     "output_type": "execute_result"
    }
   ],
   "source": [
    "import torch\n",
    "rfin_array = np.array(fin_list).astype(float)\n",
    "input_data = torch.tensor(rfin_array)"
   ]
  },
  {
   "cell_type": "code",
   "execution_count": 38,
   "metadata": {},
   "outputs": [],
   "source": [
    "# from glob import glob\n",
    "import numpy as np\n",
    "# import matplotlib.pyplot as plt\n",
    "import pandas as pd\n",
    "# from sklearn.cluster import KMeans\n",
    "import configparser\n",
    "import os\n",
    "import glob\n",
    "import torch\n",
    "# import sys\n",
    "# #config 파일 가져오기 \n",
    "# os.chdir(\"../data\")\n",
    "\n",
    "dir = '../data/A-1/configs/A-1/*.cnf'\n",
    "def make_data(directory):\n",
    "    properties = configparser.ConfigParser()\n",
    "    # sys.path.append('home/sein/ksc_model/data/A-1/configs/A-1')\n",
    "    dir_list = sorted(glob.glob(directory))\n",
    "    #dir_list = glob.glob(directory)\n",
    "\n",
    "    #mysqld = properties[\"mysqld\"]\n",
    "    k = 0\n",
    "    # print(properties['mysqld'])\n",
    "    # print(properties['mysqld']['log-error'])\n",
    "    fin_list = []\n",
    "    for k in dir_list:\n",
    "        properties.read(k)\n",
    "        # print('---------------------------------------------------------------------')\n",
    "        # print(k)\n",
    "        # config_dict = {}\n",
    "        conf_list = []\n",
    "        for index, i in enumerate(properties['mysqld']):\n",
    "            if (index != 0)& (index != 1):\n",
    "                conf_list.append(properties['mysqld'][i]) \n",
    "            # print(\"key: \", i)\n",
    "            # print(\"values: \", properties['mysqld'][i])\n",
    "        # print(conf_list)\n",
    "        fin_list.append(conf_list)\n",
    "    # print(np.array(fin_list).shape) \n",
    "    rfin_array = np.array(fin_list)\n",
    "    # print(pd.DataFrame(rfin_array))\n",
    "\n",
    "\n",
    "    rfin_array = np.array(fin_list).astype(float)\n",
    "    input_data = torch.tensor(rfin_array)\n",
    "    \n",
    "\n",
    "    return input_data"
   ]
  },
  {
   "cell_type": "code",
   "execution_count": 81,
   "metadata": {},
   "outputs": [
    {
     "ename": "NameError",
     "evalue": "name 'fin_list' is not defined",
     "output_type": "error",
     "traceback": [
      "\u001b[0;31m---------------------------------------------------------------------------\u001b[0m",
      "\u001b[0;31mNameError\u001b[0m                                 Traceback (most recent call last)",
      "Cell \u001b[0;32mIn [81], line 32\u001b[0m\n\u001b[1;32m     27\u001b[0m         \u001b[38;5;66;03m# dir_list = glob.glob('../data/A-1/configs/A-1/*.cnf')\u001b[39;00m\n\u001b[1;32m     29\u001b[0m clus\u001b[38;5;241m=\u001b[39mpd\u001b[38;5;241m.\u001b[39mread_csv(\u001b[38;5;124m\"\u001b[39m\u001b[38;5;124m../data/clustering2.csv\u001b[39m\u001b[38;5;124m\"\u001b[39m)\n\u001b[0;32m---> 32\u001b[0m rfin_array \u001b[38;5;241m=\u001b[39m np\u001b[38;5;241m.\u001b[39marray(fin_list)\u001b[38;5;241m.\u001b[39mastype(\u001b[38;5;28mfloat\u001b[39m)\n\u001b[1;32m     33\u001b[0m input_data \u001b[38;5;241m=\u001b[39m torch\u001b[38;5;241m.\u001b[39mtensor(rfin_array)\n\u001b[1;32m     35\u001b[0m one_hot \u001b[38;5;241m=\u001b[39m pd\u001b[38;5;241m.\u001b[39mget_dummies(clus, columns\u001b[38;5;241m=\u001b[39m[\u001b[38;5;124m'\u001b[39m\u001b[38;5;124mcluster\u001b[39m\u001b[38;5;124m'\u001b[39m])\n",
      "\u001b[0;31mNameError\u001b[0m: name 'fin_list' is not defined"
     ]
    }
   ],
   "source": [
    "import pandas as pd\n",
    "import numpy as np\n",
    "import glob\n",
    "import torch\n",
    "from MLP import NeuralModel\n",
    "from sklearn.preprocessing import MinMaxScaler, StandardScaler\n",
    "from sklearn.model_selection import train_test_split\n",
    "from sklearn.metrics import r2_score\n",
    "from scipy.stats import pearsonr\n",
    "from cluster import make_data\n",
    "from sklearn.metrics import log_loss\n",
    "from xgboost import XGBClassifier\n",
    "\n",
    "\n",
    "def train_Net(logger, data, METRIC, MODE, batch_size, lr, epochs, hidden_dim):\n",
    "# # def train_Net(logger, data, METRIC, MODE, batch_size, lr, epochs, hidden_dim, group_dim, Q_NUM, dot, EX_NUM=4, lamb=0.1):\n",
    "\n",
    "    df_pred = pd.DataFrame(columns=(\"METRIC\", \"r2\",  \"MSE\"))\n",
    "\n",
    "    k_r2 = 0\n",
    "    # k_MSE = 0\n",
    "    cnt = 0\n",
    "\n",
    "\n",
    "model = XGBClassifier(n_estimators=500, learning_rate=0.2, max_depth=4, random_state =32)\n",
    "\n",
    "        # dir_list = glob.glob('../data/A-1/configs/A-1/*.cnf')\n",
    "\n",
    "clus=pd.read_csv(\"../data/clustering2.csv\")\n",
    "\n",
    "\n",
    "rfin_array = np.array(fin_list).astype(float)\n",
    "input_data = torch.tensor(rfin_array)\n",
    "\n",
    "one_hot = pd.get_dummies(clus, columns=['cluster'])\n",
    "\n",
    "input_data = data\n",
    "\n",
    "X = input_data #config 파일\n",
    "#         print(X)\n",
    "        # quit()\n",
    "\n",
    "Y = one_hot #one-hot vector 값\n",
    "\n",
    "Y = Y.iloc[:,3:]\n",
    "\n",
    "#         print(Y)\n",
    "\n",
    "\n",
    "X_tr, X_te, y_tr, y_te = train_test_split(X, Y, test_size=0.2, shuffle=False) #train set, test set 나누기\n",
    "\n",
    "        #X_tr, X_te, y_tr, y_te = train_test_split(X, Y, test_size=0.2, shuffle=True, random_state=1004) #train set, test set 나누기\n",
    "\n",
    "        # TODO: scale\n",
    "        # print(X_tr)\n",
    "        # quit()\n",
    "scaler_X = MinMaxScaler().fit(X_tr)\n",
    "        # scaler_y = StandardScaler().fit(y_tr) #scale 값\n",
    "\n",
    "        #적용\n",
    "norm_X_tr = torch.Tensor(scaler_X.transform(X_tr)).cuda()\n",
    "norm_X_te = torch.Tensor(scaler_X.transform(X_te)).cuda()\n",
    "        # print(y_tr.shape)\n",
    "        # quit()\n",
    "y_tr = y_tr.to_numpy()\n",
    "y_te = y_te.to_numpy()\n",
    "y_tr = torch.Tensor(y_tr).cuda()\n",
    "y_te = torch.Tensor(y_te).cuda()\n",
    "\n",
    "model.fit(X_tr, y_tr)"
   ]
  },
  {
   "cell_type": "code",
   "execution_count": 274,
   "metadata": {},
   "outputs": [],
   "source": [
    "###clustering 이후 원핫벡터\n",
    "\n",
    "import pandas as pd\n",
    "import numpy as np\n",
    "import glob\n",
    "import torch\n",
    "from MLP import NeuralModel\n",
    "from sklearn.preprocessing import MinMaxScaler, StandardScaler\n",
    "from sklearn.model_selection import train_test_split\n",
    "from sklearn.metrics import r2_score\n",
    "from scipy.stats import pearsonr\n",
    "from cluster import make_data\n",
    "from sklearn.metrics import log_loss\n",
    "from xgboost import XGBClassifier\n",
    "from sklearn.metrics import accuracy_score\n",
    "\n",
    "# def train_Net(logger, data, METRIC, MODE, batch_size, lr, epochs, hidden_dim):\n",
    "# # # def train_Net(logger, data, METRIC, MODE, batch_size, lr, epochs, hidden_dim, group_dim, Q_NUM, dot, EX_NUM=4, lamb=0.1):\n",
    "\n",
    "#     df_pred = pd.DataFrame(columns=(\"METRIC\", \"r2\",  \"MSE\"))\n",
    "\n",
    "#     k_r2 = 0\n",
    "#     # k_MSE = 0\n",
    "#     cnt = 0\n",
    "\n",
    "\n",
    "    \n",
    "\n",
    "    # dir_list = glob.glob('../data/A-1/configs/A-1/*.cnf')\n",
    "input_data = make_data('../data/A-1/configs/A-1/*.cnf')    \n",
    "clus=pd.read_csv(\"../data/clustering2.csv\")\n",
    "# rfin_array = np.array(fin_list).astype(float)\n",
    "# input_data = torch.tensor(rfin_array)\n",
    "\n",
    "one_hot = pd.get_dummies(clus, columns=['cluster'])\n",
    "\n",
    "#input_data = data\n",
    "\n",
    "X = input_data #config 파일\n",
    "# print(X)\n",
    "# quit()\n",
    "\n",
    "Y = one_hot #one-hot vector 값\n",
    "\n",
    "    \n",
    "Y = Y.iloc[:,3:]\n",
    "Y.columns = [\"cluster_0\", \"cluster_1\", \"cluster_2\",\"cluster_3\"]\n"
   ]
  },
  {
   "cell_type": "code",
   "execution_count": 291,
   "metadata": {},
   "outputs": [
    {
     "data": {
      "text/html": [
       "<div>\n",
       "<style scoped>\n",
       "    .dataframe tbody tr th:only-of-type {\n",
       "        vertical-align: middle;\n",
       "    }\n",
       "\n",
       "    .dataframe tbody tr th {\n",
       "        vertical-align: top;\n",
       "    }\n",
       "\n",
       "    .dataframe thead th {\n",
       "        text-align: right;\n",
       "    }\n",
       "</style>\n",
       "<table border=\"1\" class=\"dataframe\">\n",
       "  <thead>\n",
       "    <tr style=\"text-align: right;\">\n",
       "      <th></th>\n",
       "      <th>cluster_0</th>\n",
       "      <th>cluster_1</th>\n",
       "    </tr>\n",
       "  </thead>\n",
       "  <tbody>\n",
       "    <tr>\n",
       "      <th>0</th>\n",
       "      <td>1</td>\n",
       "      <td>0</td>\n",
       "    </tr>\n",
       "    <tr>\n",
       "      <th>1</th>\n",
       "      <td>1</td>\n",
       "      <td>0</td>\n",
       "    </tr>\n",
       "    <tr>\n",
       "      <th>2</th>\n",
       "      <td>1</td>\n",
       "      <td>0</td>\n",
       "    </tr>\n",
       "    <tr>\n",
       "      <th>3</th>\n",
       "      <td>0</td>\n",
       "      <td>1</td>\n",
       "    </tr>\n",
       "    <tr>\n",
       "      <th>4</th>\n",
       "      <td>0</td>\n",
       "      <td>1</td>\n",
       "    </tr>\n",
       "    <tr>\n",
       "      <th>...</th>\n",
       "      <td>...</td>\n",
       "      <td>...</td>\n",
       "    </tr>\n",
       "    <tr>\n",
       "      <th>995</th>\n",
       "      <td>1</td>\n",
       "      <td>0</td>\n",
       "    </tr>\n",
       "    <tr>\n",
       "      <th>996</th>\n",
       "      <td>1</td>\n",
       "      <td>0</td>\n",
       "    </tr>\n",
       "    <tr>\n",
       "      <th>997</th>\n",
       "      <td>1</td>\n",
       "      <td>0</td>\n",
       "    </tr>\n",
       "    <tr>\n",
       "      <th>998</th>\n",
       "      <td>0</td>\n",
       "      <td>1</td>\n",
       "    </tr>\n",
       "    <tr>\n",
       "      <th>999</th>\n",
       "      <td>0</td>\n",
       "      <td>1</td>\n",
       "    </tr>\n",
       "  </tbody>\n",
       "</table>\n",
       "<p>1000 rows × 2 columns</p>\n",
       "</div>"
      ],
      "text/plain": [
       "     cluster_0  cluster_1\n",
       "0            1          0\n",
       "1            1          0\n",
       "2            1          0\n",
       "3            0          1\n",
       "4            0          1\n",
       "..         ...        ...\n",
       "995          1          0\n",
       "996          1          0\n",
       "997          1          0\n",
       "998          0          1\n",
       "999          0          1\n",
       "\n",
       "[1000 rows x 2 columns]"
      ]
     },
     "execution_count": 291,
     "metadata": {},
     "output_type": "execute_result"
    }
   ],
   "source": [
    "Y[['cluster_0','cluster_1']]\n"
   ]
  },
  {
   "cell_type": "code",
   "execution_count": 289,
   "metadata": {},
   "outputs": [
    {
     "data": {
      "text/plain": [
       "cluster_0     1\n",
       "cluster_1     0\n",
       "cluster_2     0\n",
       "cluster_3     0\n",
       "classifier    0\n",
       "Name: 0, dtype: int64"
      ]
     },
     "execution_count": 289,
     "metadata": {},
     "output_type": "execute_result"
    }
   ],
   "source": [
    "Y.loc[0]"
   ]
  },
  {
   "cell_type": "code",
   "execution_count": 285,
   "metadata": {},
   "outputs": [
    {
     "data": {
      "text/html": [
       "<div>\n",
       "<style scoped>\n",
       "    .dataframe tbody tr th:only-of-type {\n",
       "        vertical-align: middle;\n",
       "    }\n",
       "\n",
       "    .dataframe tbody tr th {\n",
       "        vertical-align: top;\n",
       "    }\n",
       "\n",
       "    .dataframe thead th {\n",
       "        text-align: right;\n",
       "    }\n",
       "</style>\n",
       "<table border=\"1\" class=\"dataframe\">\n",
       "  <thead>\n",
       "    <tr style=\"text-align: right;\">\n",
       "      <th></th>\n",
       "      <th>cluster_0</th>\n",
       "      <th>cluster_1</th>\n",
       "      <th>cluster_2</th>\n",
       "      <th>cluster_3</th>\n",
       "      <th>classifier</th>\n",
       "    </tr>\n",
       "  </thead>\n",
       "  <tbody>\n",
       "    <tr>\n",
       "      <th>0</th>\n",
       "      <td>1</td>\n",
       "      <td>0</td>\n",
       "      <td>0</td>\n",
       "      <td>0</td>\n",
       "      <td>0</td>\n",
       "    </tr>\n",
       "    <tr>\n",
       "      <th>1</th>\n",
       "      <td>1</td>\n",
       "      <td>0</td>\n",
       "      <td>0</td>\n",
       "      <td>0</td>\n",
       "      <td>0</td>\n",
       "    </tr>\n",
       "    <tr>\n",
       "      <th>2</th>\n",
       "      <td>1</td>\n",
       "      <td>0</td>\n",
       "      <td>0</td>\n",
       "      <td>0</td>\n",
       "      <td>0</td>\n",
       "    </tr>\n",
       "    <tr>\n",
       "      <th>3</th>\n",
       "      <td>0</td>\n",
       "      <td>1</td>\n",
       "      <td>0</td>\n",
       "      <td>0</td>\n",
       "      <td>1</td>\n",
       "    </tr>\n",
       "    <tr>\n",
       "      <th>4</th>\n",
       "      <td>0</td>\n",
       "      <td>1</td>\n",
       "      <td>0</td>\n",
       "      <td>0</td>\n",
       "      <td>1</td>\n",
       "    </tr>\n",
       "    <tr>\n",
       "      <th>...</th>\n",
       "      <td>...</td>\n",
       "      <td>...</td>\n",
       "      <td>...</td>\n",
       "      <td>...</td>\n",
       "      <td>...</td>\n",
       "    </tr>\n",
       "    <tr>\n",
       "      <th>995</th>\n",
       "      <td>1</td>\n",
       "      <td>0</td>\n",
       "      <td>0</td>\n",
       "      <td>0</td>\n",
       "      <td>0</td>\n",
       "    </tr>\n",
       "    <tr>\n",
       "      <th>996</th>\n",
       "      <td>1</td>\n",
       "      <td>0</td>\n",
       "      <td>0</td>\n",
       "      <td>0</td>\n",
       "      <td>0</td>\n",
       "    </tr>\n",
       "    <tr>\n",
       "      <th>997</th>\n",
       "      <td>1</td>\n",
       "      <td>0</td>\n",
       "      <td>0</td>\n",
       "      <td>0</td>\n",
       "      <td>0</td>\n",
       "    </tr>\n",
       "    <tr>\n",
       "      <th>998</th>\n",
       "      <td>0</td>\n",
       "      <td>1</td>\n",
       "      <td>0</td>\n",
       "      <td>0</td>\n",
       "      <td>1</td>\n",
       "    </tr>\n",
       "    <tr>\n",
       "      <th>999</th>\n",
       "      <td>0</td>\n",
       "      <td>1</td>\n",
       "      <td>0</td>\n",
       "      <td>0</td>\n",
       "      <td>1</td>\n",
       "    </tr>\n",
       "  </tbody>\n",
       "</table>\n",
       "<p>1000 rows × 5 columns</p>\n",
       "</div>"
      ],
      "text/plain": [
       "     cluster_0  cluster_1  cluster_2  cluster_3  classifier\n",
       "0            1          0          0          0           0\n",
       "1            1          0          0          0           0\n",
       "2            1          0          0          0           0\n",
       "3            0          1          0          0           1\n",
       "4            0          1          0          0           1\n",
       "..         ...        ...        ...        ...         ...\n",
       "995          1          0          0          0           0\n",
       "996          1          0          0          0           0\n",
       "997          1          0          0          0           0\n",
       "998          0          1          0          0           1\n",
       "999          0          1          0          0           1\n",
       "\n",
       "[1000 rows x 5 columns]"
      ]
     },
     "execution_count": 285,
     "metadata": {},
     "output_type": "execute_result"
    }
   ],
   "source": [
    "Y"
   ]
  },
  {
   "cell_type": "code",
   "execution_count": 276,
   "metadata": {},
   "outputs": [
    {
     "name": "stdout",
     "output_type": "stream",
     "text": [
      "     cluster_0  cluster_1  cluster_2  cluster_3\n",
      "0            1          0          0          0\n",
      "1            1          0          0          0\n",
      "2            1          0          0          0\n",
      "3            0          1          0          0\n",
      "4            0          1          0          0\n",
      "..         ...        ...        ...        ...\n",
      "995          1          0          0          0\n",
      "996          1          0          0          0\n",
      "997          1          0          0          0\n",
      "998          0          1          0          0\n",
      "999          0          1          0          0\n",
      "\n",
      "[1000 rows x 4 columns]\n"
     ]
    }
   ],
   "source": [
    "print(Y)"
   ]
  },
  {
   "cell_type": "code",
   "execution_count": 277,
   "metadata": {},
   "outputs": [
    {
     "name": "stdout",
     "output_type": "stream",
     "text": [
      "cluster_0    591\n",
      "cluster_1    354\n",
      "cluster_2     45\n",
      "cluster_3     10\n",
      "dtype: int64\n"
     ]
    }
   ],
   "source": [
    "print(Y.sum())"
   ]
  },
  {
   "cell_type": "code",
   "execution_count": 278,
   "metadata": {},
   "outputs": [
    {
     "data": {
      "text/plain": [
       "0.545"
      ]
     },
     "execution_count": 278,
     "metadata": {},
     "output_type": "execute_result"
    }
   ],
   "source": [
    "###XGBoost 적용\n",
    "\n",
    "import pandas as pd\n",
    "import numpy as np\n",
    "import glob\n",
    "import torch\n",
    "from MLP import NeuralModel\n",
    "from sklearn.preprocessing import MinMaxScaler, StandardScaler\n",
    "from sklearn.model_selection import train_test_split\n",
    "from sklearn.metrics import r2_score\n",
    "from scipy.stats import pearsonr\n",
    "from cluster import make_data\n",
    "from sklearn.metrics import log_loss\n",
    "from xgboost import XGBClassifier\n",
    "from sklearn.metrics import accuracy_score\n",
    "\n",
    "# def train_Net(logger, data, METRIC, MODE, batch_size, lr, epochs, hidden_dim):\n",
    "# # # def train_Net(logger, data, METRIC, MODE, batch_size, lr, epochs, hidden_dim, group_dim, Q_NUM, dot, EX_NUM=4, lamb=0.1):\n",
    "\n",
    "#     df_pred = pd.DataFrame(columns=(\"METRIC\", \"r2\",  \"MSE\"))\n",
    "\n",
    "#     k_r2 = 0\n",
    "#     # k_MSE = 0\n",
    "#     cnt = 0\n",
    "\n",
    "\n",
    "    \n",
    "\n",
    "    # dir_list = glob.glob('../data/A-1/configs/A-1/*.cnf')\n",
    "input_data = make_data('../data/A-1/configs/A-1/*.cnf')    \n",
    "clus=pd.read_csv(\"../data/clustering2.csv\")\n",
    "# rfin_array = np.array(fin_list).astype(float)\n",
    "# input_data = torch.tensor(rfin_array)\n",
    "\n",
    "one_hot = pd.get_dummies(clus, columns=['cluster'])\n",
    "\n",
    "#input_data = data\n",
    "\n",
    "X = input_data #config 파일\n",
    "# print(X)\n",
    "# quit()\n",
    "\n",
    "Y = one_hot #one-hot vector 값       \n",
    "    \n",
    "Y = Y.iloc[:,3:]\n",
    "i = 0\n",
    "\n",
    "Z = []\n",
    "for i in range (1000):\n",
    "     Z.append((np.argmax(Y.loc[i])))\n",
    "\n",
    "Z_df = pd.DataFrame(Z)\n",
    "# print(Z_df)\n",
    "\n",
    "Y['classifier'] = Z_df\n",
    "\n",
    "\n",
    "\n",
    "X_tr, X_te, y_tr, y_te = train_test_split(X, Z_df, test_size=0.2, shuffle=False) #train set, test set 나누기\n",
    "\n",
    "#X_tr, X_te, y_tr, y_te = train_test_split(X, Y, test_size=0.2, shuffle=True, random_state=1004) #train set, test set 나누기\n",
    "\n",
    "# TODO: scale\n",
    "# print(X_tr)\n",
    "# quit()\n",
    "scaler_X = MinMaxScaler().fit(X_tr)\n",
    "# scaler_y = StandardScaler().fit(y_tr) #scale 값\n",
    "\n",
    "#적용\n",
    "norm_X_tr = torch.Tensor(scaler_X.transform(X_tr)).cuda()\n",
    "#print(norm_X_tr.shape)\n",
    "norm_X_te = torch.Tensor(scaler_X.transform(X_te)).cuda()\n",
    "# print(y_tr.shape)\n",
    "# quit()\n",
    "y_tr = y_tr.to_numpy()\n",
    "y_te = y_te.to_numpy()\n",
    "y_tr = torch.Tensor(y_tr).cuda()\n",
    "#y_te = torch.Tensor(y_te).cuda()\n",
    "\n",
    "model = XGBClassifier(n_estimators=700, learning_rate=0.01, max_depth=4)\n",
    " \n",
    "model.fit(norm_X_tr.cpu().detach().numpy(), y_tr.cpu().detach().numpy())\n",
    "\n",
    "\n",
    "y_pred = model.predict(norm_X_te.cpu().detach().numpy())\n",
    "accuracy_score(y_pred, y_te)\n"
   ]
  },
  {
   "cell_type": "code",
   "execution_count": 6,
   "metadata": {},
   "outputs": [
    {
     "data": {
      "text/html": [
       "<div>\n",
       "<style scoped>\n",
       "    .dataframe tbody tr th:only-of-type {\n",
       "        vertical-align: middle;\n",
       "    }\n",
       "\n",
       "    .dataframe tbody tr th {\n",
       "        vertical-align: top;\n",
       "    }\n",
       "\n",
       "    .dataframe thead th {\n",
       "        text-align: right;\n",
       "    }\n",
       "</style>\n",
       "<table border=\"1\" class=\"dataframe\">\n",
       "  <thead>\n",
       "    <tr style=\"text-align: right;\">\n",
       "      <th></th>\n",
       "      <th>cluster_0</th>\n",
       "      <th>cluster_1</th>\n",
       "      <th>cluster_2</th>\n",
       "      <th>cluster_3</th>\n",
       "      <th>classifier</th>\n",
       "    </tr>\n",
       "  </thead>\n",
       "  <tbody>\n",
       "    <tr>\n",
       "      <th>0</th>\n",
       "      <td>0</td>\n",
       "      <td>0</td>\n",
       "      <td>0</td>\n",
       "      <td>1</td>\n",
       "      <td>3</td>\n",
       "    </tr>\n",
       "    <tr>\n",
       "      <th>1</th>\n",
       "      <td>0</td>\n",
       "      <td>0</td>\n",
       "      <td>0</td>\n",
       "      <td>1</td>\n",
       "      <td>3</td>\n",
       "    </tr>\n",
       "    <tr>\n",
       "      <th>2</th>\n",
       "      <td>0</td>\n",
       "      <td>0</td>\n",
       "      <td>0</td>\n",
       "      <td>1</td>\n",
       "      <td>3</td>\n",
       "    </tr>\n",
       "    <tr>\n",
       "      <th>3</th>\n",
       "      <td>1</td>\n",
       "      <td>0</td>\n",
       "      <td>0</td>\n",
       "      <td>0</td>\n",
       "      <td>0</td>\n",
       "    </tr>\n",
       "    <tr>\n",
       "      <th>4</th>\n",
       "      <td>1</td>\n",
       "      <td>0</td>\n",
       "      <td>0</td>\n",
       "      <td>0</td>\n",
       "      <td>0</td>\n",
       "    </tr>\n",
       "    <tr>\n",
       "      <th>...</th>\n",
       "      <td>...</td>\n",
       "      <td>...</td>\n",
       "      <td>...</td>\n",
       "      <td>...</td>\n",
       "      <td>...</td>\n",
       "    </tr>\n",
       "    <tr>\n",
       "      <th>995</th>\n",
       "      <td>1</td>\n",
       "      <td>0</td>\n",
       "      <td>0</td>\n",
       "      <td>0</td>\n",
       "      <td>0</td>\n",
       "    </tr>\n",
       "    <tr>\n",
       "      <th>996</th>\n",
       "      <td>0</td>\n",
       "      <td>0</td>\n",
       "      <td>0</td>\n",
       "      <td>1</td>\n",
       "      <td>3</td>\n",
       "    </tr>\n",
       "    <tr>\n",
       "      <th>997</th>\n",
       "      <td>0</td>\n",
       "      <td>0</td>\n",
       "      <td>0</td>\n",
       "      <td>1</td>\n",
       "      <td>3</td>\n",
       "    </tr>\n",
       "    <tr>\n",
       "      <th>998</th>\n",
       "      <td>1</td>\n",
       "      <td>0</td>\n",
       "      <td>0</td>\n",
       "      <td>0</td>\n",
       "      <td>0</td>\n",
       "    </tr>\n",
       "    <tr>\n",
       "      <th>999</th>\n",
       "      <td>1</td>\n",
       "      <td>0</td>\n",
       "      <td>0</td>\n",
       "      <td>0</td>\n",
       "      <td>0</td>\n",
       "    </tr>\n",
       "  </tbody>\n",
       "</table>\n",
       "<p>1000 rows × 5 columns</p>\n",
       "</div>"
      ],
      "text/plain": [
       "     cluster_0  cluster_1  cluster_2  cluster_3  classifier\n",
       "0            0          0          0          1           3\n",
       "1            0          0          0          1           3\n",
       "2            0          0          0          1           3\n",
       "3            1          0          0          0           0\n",
       "4            1          0          0          0           0\n",
       "..         ...        ...        ...        ...         ...\n",
       "995          1          0          0          0           0\n",
       "996          0          0          0          1           3\n",
       "997          0          0          0          1           3\n",
       "998          1          0          0          0           0\n",
       "999          1          0          0          0           0\n",
       "\n",
       "[1000 rows x 5 columns]"
      ]
     },
     "execution_count": 6,
     "metadata": {},
     "output_type": "execute_result"
    }
   ],
   "source": [
    "Y"
   ]
  },
  {
   "cell_type": "code",
   "execution_count": 91,
   "metadata": {},
   "outputs": [
    {
     "name": "stdout",
     "output_type": "stream",
     "text": [
      "0\n",
      "2\n"
     ]
    }
   ],
   "source": [
    "print(np.argmax(Y.loc[0]))\n",
    "print(np.argmax(Y.loc[5]))"
   ]
  },
  {
   "cell_type": "code",
   "execution_count": 52,
   "metadata": {},
   "outputs": [
    {
     "data": {
      "text/plain": [
       "(array([[0., 0., 0., 0.],\n",
       "        [1., 0., 0., 0.],\n",
       "        [1., 0., 0., 0.],\n",
       "        [1., 0., 0., 0.],\n",
       "        [1., 0., 0., 0.],\n",
       "        [1., 0., 0., 0.],\n",
       "        [1., 0., 0., 0.],\n",
       "        [0., 0., 1., 0.],\n",
       "        [1., 0., 0., 0.],\n",
       "        [1., 0., 0., 0.]]),\n",
       " array([[1, 0, 0, 0],\n",
       "        [1, 0, 0, 0],\n",
       "        [0, 0, 1, 0],\n",
       "        [0, 1, 0, 0],\n",
       "        [1, 0, 0, 0],\n",
       "        [0, 0, 1, 0],\n",
       "        [1, 0, 0, 0],\n",
       "        [1, 0, 0, 0],\n",
       "        [1, 0, 0, 0],\n",
       "        [0, 0, 1, 0]], dtype=uint8))"
      ]
     },
     "execution_count": 52,
     "metadata": {},
     "output_type": "execute_result"
    }
   ],
   "source": [
    "y_pred[:10,:], y_te[:10,:]"
   ]
  },
  {
   "cell_type": "code",
   "execution_count": 60,
   "metadata": {},
   "outputs": [
    {
     "data": {
      "text/plain": [
       "1"
      ]
     },
     "execution_count": 60,
     "metadata": {},
     "output_type": "execute_result"
    }
   ],
   "source": [
    "np.argmax( [0,1,0,0] )"
   ]
  },
  {
   "cell_type": "code",
   "execution_count": 61,
   "metadata": {},
   "outputs": [
    {
     "data": {
      "text/plain": [
       "0"
      ]
     },
     "execution_count": 61,
     "metadata": {},
     "output_type": "execute_result"
    }
   ],
   "source": [
    "np.argmax(Y)"
   ]
  },
  {
   "cell_type": "code",
   "execution_count": 63,
   "metadata": {},
   "outputs": [],
   "source": [
    "Y = Y.iloc[:,3:]\n",
    "Y['classification'] = target"
   ]
  },
  {
   "cell_type": "code",
   "execution_count": 68,
   "metadata": {},
   "outputs": [],
   "source": [
    "###Triplet Loss 적용\n",
    "\n",
    "import pandas as pd\n",
    "import numpy as np\n",
    "import glob\n",
    "import torch\n",
    "from MLP import NeuralModel\n",
    "from sklearn.preprocessing import MinMaxScaler, StandardScaler\n",
    "from sklearn.model_selection import train_test_split\n",
    "from sklearn.metrics import r2_score\n",
    "from scipy.stats import pearsonr\n",
    "from cluster import make_data\n",
    "from sklearn.metrics import log_loss\n",
    "from xgboost import XGBClassifier\n",
    "from sklearn.metrics import accuracy_score\n",
    "\n",
    "# def train_Net(logger, data, METRIC, MODE, batch_size, lr, epochs, hidden_dim):\n",
    "# # # def train_Net(logger, data, METRIC, MODE, batch_size, lr, epochs, hidden_dim, group_dim, Q_NUM, dot, EX_NUM=4, lamb=0.1):\n",
    "\n",
    "#     df_pred = pd.DataFrame(columns=(\"METRIC\", \"r2\",  \"MSE\"))\n",
    "\n",
    "#     k_r2 = 0\n",
    "#     # k_MSE = 0\n",
    "#     cnt = 0\n",
    "\n",
    "\n",
    "    \n",
    "\n",
    "    # dir_list = glob.glob('../data/A-1/configs/A-1/*.cnf')\n",
    "input_data = make_data('../data/A-1/configs/A-1/*.cnf')    \n",
    "clus=pd.read_csv(\"../data/clustering2.csv\")\n",
    "# rfin_array = np.array(fin_list).astype(float)\n",
    "# input_data = torch.tensor(rfin_array)\n",
    "\n",
    "one_hot = pd.get_dummies(clus, columns=['cluster'])\n",
    "\n",
    "#input_data = data\n",
    "\n",
    "X = input_data #config 파일\n",
    "# print(X)\n",
    "# quit()\n",
    "\n",
    "Y = one_hot #one-hot vector 값       \n",
    "    \n",
    "Y = Y.iloc[:,3:]\n",
    "\n",
    "Y_list = Y.values.tolist()\n",
    "Y_res = []\n",
    "for value in Y_list:\n",
    "    if value not in Y_res:\n",
    "        Y_res.append(value)\n",
    "# Y_list = []\n",
    "# for i in range (1000):\n",
    "#     Y_list.append(Y.loc[i])\n"
   ]
  },
  {
   "cell_type": "code",
   "execution_count": 69,
   "metadata": {},
   "outputs": [
    {
     "name": "stdout",
     "output_type": "stream",
     "text": [
      "[[0, 0, 0, 1], [1, 0, 0, 0], [0, 1, 0, 0], [0, 0, 1, 0]]\n"
     ]
    }
   ],
   "source": [
    "print(Y_res)"
   ]
  },
  {
   "cell_type": "code",
   "execution_count": 65,
   "metadata": {},
   "outputs": [
    {
     "name": "stdout",
     "output_type": "stream",
     "text": [
      "[[0, 0, 0, 1], [0, 0, 0, 1], [0, 0, 0, 1], [1, 0, 0, 0], [1, 0, 0, 0], [1, 0, 0, 0], [0, 0, 0, 1], [1, 0, 0, 0], [1, 0, 0, 0], [1, 0, 0, 0], [1, 0, 0, 0], [1, 0, 0, 0], [0, 0, 0, 1], [0, 1, 0, 0], [0, 0, 0, 1], [0, 0, 0, 1], [0, 0, 0, 1], [0, 0, 0, 1], [0, 0, 0, 1], [1, 0, 0, 0], [1, 0, 0, 0], [0, 0, 0, 1], [1, 0, 0, 0], [1, 0, 0, 0], [0, 0, 0, 1], [0, 0, 0, 1], [0, 0, 0, 1], [0, 0, 0, 1], [1, 0, 0, 0], [0, 1, 0, 0], [1, 0, 0, 0], [1, 0, 0, 0], [0, 0, 0, 1], [1, 0, 0, 0], [0, 0, 0, 1], [0, 0, 0, 1], [1, 0, 0, 0], [0, 0, 1, 0], [0, 0, 1, 0], [0, 0, 0, 1], [1, 0, 0, 0], [1, 0, 0, 0], [0, 0, 0, 1], [0, 0, 1, 0], [0, 0, 0, 1], [0, 0, 0, 1], [0, 1, 0, 0], [1, 0, 0, 0], [1, 0, 0, 0], [0, 0, 0, 1], [0, 0, 0, 1], [0, 0, 0, 1], [1, 0, 0, 0], [1, 0, 0, 0], [1, 0, 0, 0], [0, 0, 0, 1], [1, 0, 0, 0], [0, 0, 0, 1], [0, 0, 0, 1], [0, 0, 0, 1], [0, 1, 0, 0], [0, 0, 0, 1], [0, 0, 0, 1], [1, 0, 0, 0], [0, 0, 0, 1], [1, 0, 0, 0], [1, 0, 0, 0], [0, 0, 0, 1], [1, 0, 0, 0], [1, 0, 0, 0], [1, 0, 0, 0], [1, 0, 0, 0], [0, 0, 0, 1], [1, 0, 0, 0], [0, 0, 0, 1], [1, 0, 0, 0], [1, 0, 0, 0], [0, 0, 0, 1], [1, 0, 0, 0], [0, 0, 0, 1], [0, 0, 1, 0], [0, 0, 0, 1], [0, 0, 0, 1], [0, 0, 0, 1], [1, 0, 0, 0], [0, 0, 0, 1], [1, 0, 0, 0], [1, 0, 0, 0], [0, 1, 0, 0], [0, 0, 0, 1], [0, 0, 0, 1], [0, 1, 0, 0], [0, 0, 0, 1], [0, 0, 0, 1], [0, 0, 0, 1], [1, 0, 0, 0], [1, 0, 0, 0], [1, 0, 0, 0], [0, 1, 0, 0], [0, 0, 0, 1], [0, 0, 0, 1], [0, 0, 0, 1], [1, 0, 0, 0], [0, 1, 0, 0], [0, 0, 0, 1], [0, 0, 0, 1], [0, 0, 0, 1], [1, 0, 0, 0], [0, 0, 0, 1], [1, 0, 0, 0], [1, 0, 0, 0], [0, 1, 0, 0], [0, 0, 0, 1], [0, 0, 0, 1], [0, 0, 0, 1], [1, 0, 0, 0], [0, 0, 0, 1], [0, 0, 0, 1], [0, 0, 0, 1], [1, 0, 0, 0], [1, 0, 0, 0], [1, 0, 0, 0], [1, 0, 0, 0], [0, 0, 0, 1], [0, 0, 0, 1], [1, 0, 0, 0], [0, 0, 0, 1], [0, 0, 0, 1], [1, 0, 0, 0], [0, 0, 0, 1], [1, 0, 0, 0], [1, 0, 0, 0], [0, 0, 0, 1], [0, 0, 0, 1], [1, 0, 0, 0], [1, 0, 0, 0], [1, 0, 0, 0], [0, 0, 0, 1], [1, 0, 0, 0], [1, 0, 0, 0], [0, 0, 0, 1], [1, 0, 0, 0], [0, 0, 0, 1], [0, 0, 0, 1], [1, 0, 0, 0], [1, 0, 0, 0], [1, 0, 0, 0], [0, 0, 0, 1], [0, 1, 0, 0], [0, 0, 0, 1], [0, 0, 0, 1], [1, 0, 0, 0], [0, 0, 0, 1], [0, 0, 0, 1], [0, 0, 1, 0], [1, 0, 0, 0], [1, 0, 0, 0], [0, 0, 0, 1], [1, 0, 0, 0], [1, 0, 0, 0], [1, 0, 0, 0], [0, 0, 0, 1], [0, 0, 0, 1], [0, 0, 0, 1], [1, 0, 0, 0], [1, 0, 0, 0], [0, 0, 0, 1], [0, 0, 0, 1], [1, 0, 0, 0], [1, 0, 0, 0], [0, 0, 0, 1], [0, 0, 0, 1], [1, 0, 0, 0], [0, 0, 0, 1], [0, 0, 0, 1], [1, 0, 0, 0], [1, 0, 0, 0], [0, 0, 0, 1], [0, 1, 0, 0], [0, 0, 0, 1], [1, 0, 0, 0], [0, 0, 0, 1], [1, 0, 0, 0], [1, 0, 0, 0], [0, 0, 0, 1], [1, 0, 0, 0], [1, 0, 0, 0], [1, 0, 0, 0], [1, 0, 0, 0], [1, 0, 0, 0], [0, 0, 0, 1], [0, 0, 0, 1], [0, 0, 0, 1], [0, 0, 0, 1], [0, 0, 0, 1], [0, 0, 0, 1], [0, 1, 0, 0], [0, 1, 0, 0], [0, 0, 0, 1], [1, 0, 0, 0], [0, 1, 0, 0], [0, 1, 0, 0], [0, 0, 0, 1], [0, 0, 0, 1], [0, 0, 0, 1], [1, 0, 0, 0], [0, 0, 0, 1], [1, 0, 0, 0], [0, 0, 1, 0], [0, 0, 0, 1], [1, 0, 0, 0], [0, 0, 0, 1], [0, 0, 0, 1], [0, 0, 0, 1], [0, 0, 0, 1], [1, 0, 0, 0], [0, 1, 0, 0], [0, 0, 0, 1], [0, 1, 0, 0], [1, 0, 0, 0], [0, 0, 0, 1], [1, 0, 0, 0], [1, 0, 0, 0], [1, 0, 0, 0], [0, 0, 0, 1], [0, 0, 0, 1], [0, 0, 0, 1], [1, 0, 0, 0], [0, 0, 0, 1], [0, 0, 0, 1], [0, 0, 0, 1], [0, 0, 0, 1], [0, 0, 0, 1], [1, 0, 0, 0], [0, 0, 0, 1], [1, 0, 0, 0], [1, 0, 0, 0], [1, 0, 0, 0], [1, 0, 0, 0], [0, 0, 0, 1], [1, 0, 0, 0], [0, 0, 0, 1], [1, 0, 0, 0], [1, 0, 0, 0], [1, 0, 0, 0], [0, 0, 0, 1], [0, 0, 0, 1], [1, 0, 0, 0], [1, 0, 0, 0], [1, 0, 0, 0], [0, 1, 0, 0], [0, 0, 0, 1], [1, 0, 0, 0], [0, 0, 0, 1], [0, 1, 0, 0], [0, 0, 0, 1], [0, 0, 0, 1], [0, 0, 0, 1], [0, 0, 0, 1], [0, 0, 0, 1], [0, 0, 0, 1], [0, 0, 0, 1], [1, 0, 0, 0], [0, 0, 0, 1], [1, 0, 0, 0], [0, 0, 0, 1], [0, 0, 0, 1], [0, 0, 0, 1], [0, 0, 0, 1], [1, 0, 0, 0], [1, 0, 0, 0], [1, 0, 0, 0], [1, 0, 0, 0], [1, 0, 0, 0], [0, 0, 1, 0], [1, 0, 0, 0], [0, 1, 0, 0], [1, 0, 0, 0], [1, 0, 0, 0], [1, 0, 0, 0], [0, 0, 0, 1], [1, 0, 0, 0], [0, 0, 0, 1], [1, 0, 0, 0], [1, 0, 0, 0], [0, 0, 0, 1], [0, 0, 0, 1], [0, 0, 0, 1], [1, 0, 0, 0], [0, 0, 0, 1], [0, 0, 0, 1], [1, 0, 0, 0], [0, 0, 0, 1], [1, 0, 0, 0], [1, 0, 0, 0], [0, 0, 0, 1], [0, 1, 0, 0], [1, 0, 0, 0], [0, 0, 0, 1], [1, 0, 0, 0], [0, 0, 0, 1], [1, 0, 0, 0], [1, 0, 0, 0], [0, 0, 0, 1], [0, 0, 0, 1], [0, 0, 0, 1], [0, 0, 0, 1], [0, 0, 0, 1], [0, 0, 0, 1], [0, 0, 0, 1], [0, 0, 0, 1], [0, 0, 0, 1], [0, 0, 0, 1], [1, 0, 0, 0], [0, 0, 0, 1], [0, 0, 0, 1], [0, 0, 0, 1], [1, 0, 0, 0], [1, 0, 0, 0], [0, 0, 0, 1], [0, 1, 0, 0], [1, 0, 0, 0], [0, 0, 0, 1], [1, 0, 0, 0], [0, 0, 0, 1], [0, 0, 0, 1], [0, 0, 0, 1], [0, 0, 0, 1], [0, 0, 0, 1], [1, 0, 0, 0], [0, 1, 0, 0], [0, 0, 0, 1], [0, 1, 0, 0], [1, 0, 0, 0], [0, 1, 0, 0], [1, 0, 0, 0], [1, 0, 0, 0], [1, 0, 0, 0], [1, 0, 0, 0], [0, 0, 0, 1], [0, 0, 0, 1], [1, 0, 0, 0], [0, 0, 0, 1], [0, 0, 0, 1], [1, 0, 0, 0], [0, 0, 0, 1], [1, 0, 0, 0], [1, 0, 0, 0], [0, 0, 0, 1], [1, 0, 0, 0], [0, 1, 0, 0], [1, 0, 0, 0], [1, 0, 0, 0], [0, 0, 0, 1], [0, 0, 0, 1], [1, 0, 0, 0], [0, 0, 0, 1], [0, 1, 0, 0], [0, 1, 0, 0], [0, 0, 0, 1], [1, 0, 0, 0], [0, 0, 0, 1], [1, 0, 0, 0], [0, 0, 0, 1], [0, 0, 0, 1], [1, 0, 0, 0], [1, 0, 0, 0], [0, 0, 0, 1], [0, 0, 0, 1], [0, 0, 0, 1], [0, 0, 0, 1], [1, 0, 0, 0], [0, 0, 0, 1], [0, 0, 0, 1], [0, 0, 0, 1], [1, 0, 0, 0], [0, 0, 0, 1], [0, 0, 0, 1], [0, 0, 0, 1], [0, 0, 0, 1], [0, 0, 0, 1], [1, 0, 0, 0], [0, 0, 0, 1], [0, 0, 0, 1], [0, 1, 0, 0], [1, 0, 0, 0], [1, 0, 0, 0], [1, 0, 0, 0], [1, 0, 0, 0], [1, 0, 0, 0], [1, 0, 0, 0], [1, 0, 0, 0], [1, 0, 0, 0], [1, 0, 0, 0], [0, 0, 0, 1], [0, 0, 0, 1], [0, 0, 0, 1], [0, 0, 0, 1], [0, 1, 0, 0], [0, 0, 0, 1], [0, 0, 0, 1], [0, 1, 0, 0], [0, 0, 0, 1], [1, 0, 0, 0], [0, 0, 0, 1], [0, 0, 0, 1], [1, 0, 0, 0], [0, 0, 0, 1], [0, 1, 0, 0], [1, 0, 0, 0], [1, 0, 0, 0], [0, 0, 0, 1], [0, 0, 0, 1], [0, 0, 0, 1], [0, 1, 0, 0], [1, 0, 0, 0], [0, 0, 0, 1], [1, 0, 0, 0], [1, 0, 0, 0], [1, 0, 0, 0], [1, 0, 0, 0], [0, 1, 0, 0], [1, 0, 0, 0], [0, 0, 0, 1], [0, 0, 0, 1], [0, 0, 0, 1], [1, 0, 0, 0], [0, 0, 0, 1], [1, 0, 0, 0], [0, 0, 0, 1], [1, 0, 0, 0], [0, 1, 0, 0], [0, 1, 0, 0], [1, 0, 0, 0], [0, 1, 0, 0], [1, 0, 0, 0], [1, 0, 0, 0], [1, 0, 0, 0], [1, 0, 0, 0], [1, 0, 0, 0], [0, 0, 0, 1], [1, 0, 0, 0], [0, 0, 0, 1], [1, 0, 0, 0], [1, 0, 0, 0], [0, 1, 0, 0], [1, 0, 0, 0], [1, 0, 0, 0], [1, 0, 0, 0], [1, 0, 0, 0], [1, 0, 0, 0], [1, 0, 0, 0], [0, 0, 0, 1], [0, 1, 0, 0], [0, 0, 0, 1], [1, 0, 0, 0], [0, 0, 0, 1], [1, 0, 0, 0], [0, 0, 0, 1], [0, 0, 0, 1], [1, 0, 0, 0], [0, 0, 0, 1], [0, 1, 0, 0], [0, 0, 0, 1], [1, 0, 0, 0], [0, 1, 0, 0], [1, 0, 0, 0], [0, 1, 0, 0], [1, 0, 0, 0], [0, 0, 0, 1], [0, 0, 0, 1], [1, 0, 0, 0], [0, 0, 0, 1], [0, 1, 0, 0], [0, 0, 0, 1], [0, 0, 0, 1], [1, 0, 0, 0], [0, 1, 0, 0], [0, 0, 0, 1], [0, 0, 0, 1], [0, 0, 0, 1], [1, 0, 0, 0], [1, 0, 0, 0], [1, 0, 0, 0], [1, 0, 0, 0], [1, 0, 0, 0], [1, 0, 0, 0], [0, 0, 0, 1], [0, 0, 1, 0], [1, 0, 0, 0], [0, 1, 0, 0], [0, 1, 0, 0], [0, 0, 0, 1], [0, 0, 0, 1], [1, 0, 0, 0], [0, 1, 0, 0], [0, 1, 0, 0], [0, 0, 0, 1], [1, 0, 0, 0], [0, 0, 0, 1], [1, 0, 0, 0], [1, 0, 0, 0], [1, 0, 0, 0], [1, 0, 0, 0], [1, 0, 0, 0], [0, 0, 0, 1], [0, 0, 0, 1], [0, 0, 0, 1], [0, 1, 0, 0], [0, 0, 0, 1], [0, 0, 0, 1], [0, 0, 1, 0], [0, 0, 0, 1], [1, 0, 0, 0], [0, 1, 0, 0], [1, 0, 0, 0], [1, 0, 0, 0], [0, 0, 0, 1], [1, 0, 0, 0], [1, 0, 0, 0], [0, 0, 0, 1], [0, 0, 0, 1], [0, 0, 0, 1], [0, 0, 0, 1], [0, 0, 0, 1], [0, 0, 0, 1], [1, 0, 0, 0], [0, 1, 0, 0], [1, 0, 0, 0], [1, 0, 0, 0], [0, 0, 0, 1], [0, 0, 0, 1], [1, 0, 0, 0], [1, 0, 0, 0], [0, 0, 0, 1], [0, 0, 0, 1], [0, 0, 0, 1], [1, 0, 0, 0], [1, 0, 0, 0], [1, 0, 0, 0], [1, 0, 0, 0], [0, 1, 0, 0], [0, 0, 0, 1], [0, 1, 0, 0], [1, 0, 0, 0], [0, 0, 0, 1], [0, 0, 0, 1], [1, 0, 0, 0], [0, 0, 0, 1], [0, 0, 0, 1], [0, 0, 0, 1], [0, 0, 0, 1], [1, 0, 0, 0], [0, 0, 0, 1], [0, 1, 0, 0], [0, 0, 0, 1], [1, 0, 0, 0], [0, 0, 0, 1], [0, 0, 0, 1], [1, 0, 0, 0], [0, 0, 0, 1], [1, 0, 0, 0], [0, 0, 0, 1], [1, 0, 0, 0], [1, 0, 0, 0], [1, 0, 0, 0], [1, 0, 0, 0], [0, 0, 0, 1], [0, 0, 0, 1], [0, 0, 0, 1], [0, 0, 0, 1], [0, 0, 0, 1], [1, 0, 0, 0], [0, 0, 0, 1], [0, 0, 0, 1], [1, 0, 0, 0], [0, 0, 0, 1], [0, 0, 0, 1], [1, 0, 0, 0], [0, 0, 0, 1], [0, 0, 0, 1], [0, 0, 0, 1], [1, 0, 0, 0], [0, 0, 0, 1], [0, 0, 0, 1], [0, 0, 0, 1], [0, 1, 0, 0], [0, 0, 0, 1], [1, 0, 0, 0], [0, 0, 0, 1], [0, 0, 0, 1], [0, 1, 0, 0], [0, 0, 0, 1], [1, 0, 0, 0], [1, 0, 0, 0], [1, 0, 0, 0], [0, 0, 0, 1], [1, 0, 0, 0], [0, 1, 0, 0], [1, 0, 0, 0], [0, 1, 0, 0], [0, 0, 0, 1], [0, 0, 0, 1], [0, 0, 0, 1], [0, 0, 0, 1], [1, 0, 0, 0], [0, 0, 0, 1], [0, 0, 0, 1], [1, 0, 0, 0], [1, 0, 0, 0], [1, 0, 0, 0], [1, 0, 0, 0], [1, 0, 0, 0], [1, 0, 0, 0], [1, 0, 0, 0], [1, 0, 0, 0], [1, 0, 0, 0], [1, 0, 0, 0], [0, 0, 0, 1], [0, 1, 0, 0], [0, 0, 0, 1], [1, 0, 0, 0], [1, 0, 0, 0], [0, 0, 0, 1], [0, 0, 0, 1], [0, 0, 0, 1], [1, 0, 0, 0], [1, 0, 0, 0], [0, 0, 0, 1], [1, 0, 0, 0], [0, 0, 0, 1], [1, 0, 0, 0], [0, 0, 0, 1], [0, 0, 0, 1], [1, 0, 0, 0], [1, 0, 0, 0], [0, 0, 0, 1], [0, 0, 0, 1], [1, 0, 0, 0], [0, 1, 0, 0], [0, 0, 0, 1], [0, 0, 0, 1], [1, 0, 0, 0], [0, 0, 0, 1], [1, 0, 0, 0], [0, 1, 0, 0], [1, 0, 0, 0], [0, 0, 0, 1], [1, 0, 0, 0], [1, 0, 0, 0], [1, 0, 0, 0], [0, 0, 0, 1], [1, 0, 0, 0], [0, 1, 0, 0], [0, 0, 0, 1], [1, 0, 0, 0], [0, 0, 0, 1], [0, 0, 0, 1], [1, 0, 0, 0], [1, 0, 0, 0], [1, 0, 0, 0], [0, 0, 0, 1], [1, 0, 0, 0], [0, 1, 0, 0], [0, 1, 0, 0], [1, 0, 0, 0], [1, 0, 0, 0], [0, 0, 0, 1], [0, 0, 0, 1], [1, 0, 0, 0], [0, 0, 0, 1], [0, 0, 0, 1], [0, 0, 0, 1], [1, 0, 0, 0], [0, 0, 0, 1], [0, 1, 0, 0], [1, 0, 0, 0], [0, 0, 0, 1], [1, 0, 0, 0], [0, 0, 0, 1], [1, 0, 0, 0], [1, 0, 0, 0], [0, 0, 0, 1], [1, 0, 0, 0], [1, 0, 0, 0], [1, 0, 0, 0], [1, 0, 0, 0], [1, 0, 0, 0], [0, 0, 0, 1], [0, 0, 0, 1], [0, 0, 0, 1], [0, 0, 1, 0], [1, 0, 0, 0], [0, 0, 0, 1], [0, 0, 0, 1], [1, 0, 0, 0], [0, 0, 0, 1], [0, 0, 0, 1], [1, 0, 0, 0], [1, 0, 0, 0], [1, 0, 0, 0], [1, 0, 0, 0], [0, 0, 0, 1], [1, 0, 0, 0], [1, 0, 0, 0], [1, 0, 0, 0], [0, 0, 0, 1], [1, 0, 0, 0], [0, 0, 0, 1], [0, 0, 0, 1], [1, 0, 0, 0], [0, 0, 0, 1], [0, 0, 0, 1], [0, 1, 0, 0], [1, 0, 0, 0], [0, 0, 0, 1], [1, 0, 0, 0], [0, 0, 0, 1], [1, 0, 0, 0], [1, 0, 0, 0], [1, 0, 0, 0], [0, 0, 0, 1], [1, 0, 0, 0], [0, 0, 0, 1], [1, 0, 0, 0], [0, 0, 0, 1], [0, 0, 0, 1], [0, 0, 0, 1], [1, 0, 0, 0], [0, 0, 0, 1], [1, 0, 0, 0], [0, 0, 0, 1], [1, 0, 0, 0], [1, 0, 0, 0], [0, 0, 0, 1], [0, 0, 0, 1], [1, 0, 0, 0], [1, 0, 0, 0], [1, 0, 0, 0], [0, 1, 0, 0], [1, 0, 0, 0], [0, 0, 0, 1], [1, 0, 0, 0], [0, 0, 0, 1], [0, 0, 0, 1], [0, 0, 0, 1], [1, 0, 0, 0], [1, 0, 0, 0], [1, 0, 0, 0], [1, 0, 0, 0], [0, 0, 0, 1], [0, 0, 0, 1], [0, 0, 0, 1], [1, 0, 0, 0], [1, 0, 0, 0], [1, 0, 0, 0], [0, 1, 0, 0], [1, 0, 0, 0], [1, 0, 0, 0], [1, 0, 0, 0], [1, 0, 0, 0], [0, 0, 0, 1], [0, 1, 0, 0], [0, 0, 0, 1], [1, 0, 0, 0], [1, 0, 0, 0], [1, 0, 0, 0], [0, 0, 0, 1], [0, 0, 0, 1], [1, 0, 0, 0], [1, 0, 0, 0], [0, 1, 0, 0], [1, 0, 0, 0], [1, 0, 0, 0], [0, 0, 0, 1], [1, 0, 0, 0], [1, 0, 0, 0], [0, 0, 0, 1], [0, 1, 0, 0], [1, 0, 0, 0], [0, 0, 0, 1], [0, 0, 0, 1], [0, 0, 0, 1], [1, 0, 0, 0], [1, 0, 0, 0], [0, 0, 0, 1], [1, 0, 0, 0], [0, 0, 0, 1], [1, 0, 0, 0], [1, 0, 0, 0], [0, 0, 0, 1], [1, 0, 0, 0], [0, 0, 0, 1], [1, 0, 0, 0], [1, 0, 0, 0], [0, 0, 0, 1], [1, 0, 0, 0], [0, 0, 0, 1], [0, 0, 0, 1], [0, 0, 0, 1], [0, 0, 0, 1], [0, 0, 0, 1], [1, 0, 0, 0], [0, 1, 0, 0], [0, 0, 0, 1], [1, 0, 0, 0], [0, 0, 0, 1], [1, 0, 0, 0], [0, 0, 0, 1], [1, 0, 0, 0], [0, 1, 0, 0], [1, 0, 0, 0], [0, 0, 0, 1], [1, 0, 0, 0], [0, 1, 0, 0], [1, 0, 0, 0], [1, 0, 0, 0], [0, 0, 0, 1], [1, 0, 0, 0], [0, 0, 0, 1], [0, 0, 0, 1], [0, 0, 0, 1], [1, 0, 0, 0], [1, 0, 0, 0], [0, 0, 0, 1], [0, 1, 0, 0], [0, 0, 0, 1], [0, 0, 0, 1], [0, 0, 0, 1], [0, 1, 0, 0], [0, 0, 0, 1], [1, 0, 0, 0], [0, 0, 0, 1], [1, 0, 0, 0], [0, 0, 0, 1], [0, 0, 0, 1], [0, 0, 0, 1], [0, 0, 0, 1], [0, 0, 0, 1], [1, 0, 0, 0], [0, 0, 0, 1], [1, 0, 0, 0], [1, 0, 0, 0], [0, 0, 0, 1], [0, 0, 0, 1], [1, 0, 0, 0], [1, 0, 0, 0], [1, 0, 0, 0], [1, 0, 0, 0], [1, 0, 0, 0], [0, 0, 0, 1], [1, 0, 0, 0], [0, 0, 0, 1], [0, 0, 0, 1], [0, 0, 0, 1], [0, 0, 0, 1], [0, 0, 0, 1], [0, 0, 0, 1], [1, 0, 0, 0], [1, 0, 0, 0], [0, 0, 0, 1], [0, 0, 0, 1], [1, 0, 0, 0], [0, 0, 0, 1], [1, 0, 0, 0], [0, 0, 0, 1], [0, 0, 0, 1], [0, 1, 0, 0], [0, 0, 0, 1], [0, 0, 0, 1], [0, 0, 0, 1], [1, 0, 0, 0], [1, 0, 0, 0], [1, 0, 0, 0], [1, 0, 0, 0], [0, 0, 0, 1], [1, 0, 0, 0], [0, 0, 0, 1], [1, 0, 0, 0], [0, 0, 0, 1], [0, 0, 0, 1], [0, 0, 0, 1], [0, 0, 0, 1], [0, 0, 0, 1], [0, 0, 0, 1], [0, 0, 0, 1], [0, 0, 0, 1], [0, 0, 0, 1], [0, 0, 0, 1], [0, 1, 0, 0], [0, 1, 0, 0], [0, 0, 0, 1], [1, 0, 0, 0], [0, 0, 0, 1], [0, 0, 0, 1], [0, 1, 0, 0], [0, 0, 0, 1], [1, 0, 0, 0], [0, 0, 0, 1], [0, 0, 0, 1], [1, 0, 0, 0], [0, 1, 0, 0], [0, 1, 0, 0], [1, 0, 0, 0], [0, 1, 0, 0], [0, 0, 0, 1], [0, 0, 0, 1], [0, 0, 0, 1], [0, 0, 0, 1], [0, 0, 0, 1], [0, 0, 0, 1], [1, 0, 0, 0], [0, 0, 0, 1], [0, 0, 0, 1], [1, 0, 0, 0], [0, 0, 0, 1], [1, 0, 0, 0], [0, 0, 0, 1], [0, 1, 0, 0], [1, 0, 0, 0], [1, 0, 0, 0], [0, 0, 0, 1], [0, 0, 0, 1], [1, 0, 0, 0], [1, 0, 0, 0], [1, 0, 0, 0], [0, 1, 0, 0], [0, 0, 0, 1], [0, 0, 0, 1], [0, 0, 0, 1], [1, 0, 0, 0], [1, 0, 0, 0], [0, 0, 0, 1], [0, 0, 0, 1], [1, 0, 0, 0], [0, 0, 0, 1], [0, 0, 0, 1], [0, 0, 0, 1], [0, 0, 0, 1], [1, 0, 0, 0], [1, 0, 0, 0], [1, 0, 0, 0], [0, 0, 0, 1], [1, 0, 0, 0], [0, 0, 0, 1], [0, 0, 0, 1], [1, 0, 0, 0], [0, 0, 0, 1], [0, 0, 0, 1], [0, 0, 0, 1], [1, 0, 0, 0], [1, 0, 0, 0], [1, 0, 0, 0], [1, 0, 0, 0], [0, 0, 0, 1], [0, 0, 0, 1], [0, 0, 0, 1], [0, 0, 0, 1], [1, 0, 0, 0], [0, 0, 0, 1], [0, 0, 0, 1], [0, 0, 0, 1], [1, 0, 0, 0], [0, 0, 0, 1], [0, 1, 0, 0], [0, 0, 0, 1], [1, 0, 0, 0], [1, 0, 0, 0], [1, 0, 0, 0], [0, 0, 0, 1], [0, 0, 0, 1], [0, 0, 0, 1], [0, 0, 0, 1], [0, 1, 0, 0], [0, 0, 0, 1], [0, 0, 0, 1], [0, 0, 0, 1], [1, 0, 0, 0], [0, 0, 0, 1], [1, 0, 0, 0], [0, 1, 0, 0], [0, 0, 0, 1], [1, 0, 0, 0], [0, 0, 0, 1], [0, 0, 0, 1], [0, 0, 0, 1], [1, 0, 0, 0], [0, 0, 0, 1], [0, 0, 0, 1], [0, 0, 0, 1], [0, 0, 0, 1], [1, 0, 0, 0], [1, 0, 0, 0], [1, 0, 0, 0], [1, 0, 0, 0], [1, 0, 0, 0], [0, 0, 0, 1], [0, 0, 0, 1], [1, 0, 0, 0], [1, 0, 0, 0]]\n"
     ]
    }
   ],
   "source": [
    "print(Y_list)"
   ]
  },
  {
   "cell_type": "code",
   "execution_count": 32,
   "metadata": {},
   "outputs": [
    {
     "name": "stdout",
     "output_type": "stream",
     "text": [
      "     cluster_0  cluster_1  cluster_2  cluster_3\n",
      "0            0          0          0          1\n",
      "1            0          0          0          1\n",
      "2            0          0          0          1\n",
      "3            1          0          0          0\n",
      "4            1          0          0          0\n",
      "..         ...        ...        ...        ...\n",
      "995          1          0          0          0\n",
      "996          0          0          0          1\n",
      "997          0          0          0          1\n",
      "998          1          0          0          0\n",
      "999          1          0          0          0\n",
      "\n",
      "[1000 rows x 4 columns]\n"
     ]
    }
   ],
   "source": [
    "print(Y)"
   ]
  },
  {
   "cell_type": "code",
   "execution_count": 55,
   "metadata": {},
   "outputs": [],
   "source": [
    "from torch.utils.data import DataLoader\n",
    "\n",
    "class get_data():\n",
    "    def __init__ (self, X, Ypred, Yp, Yn, All_y):\n",
    "        self.X = X\n",
    "        self.Ypred = y_pred\n",
    "        self.Yp = y_pred.copy()\n",
    "        self.Yn = All_y.pop(Y_list.index(y_pred))\n",
    "        \n",
    "    def __getitem__(self, index):\n",
    "        return self.X[index], self.Yp[index], self.Yn[index]\n",
    "       "
   ]
  },
  {
   "cell_type": "code",
   "execution_count": 58,
   "metadata": {},
   "outputs": [
    {
     "ename": "NameError",
     "evalue": "name 'total_loss' is not defined",
     "output_type": "error",
     "traceback": [
      "\u001b[0;31m---------------------------------------------------------------------------\u001b[0m",
      "\u001b[0;31mNameError\u001b[0m                                 Traceback (most recent call last)",
      "Cell \u001b[0;32mIn [58], line 147\u001b[0m\n\u001b[1;32m    144\u001b[0m         \u001b[38;5;66;03m# print(Accuracy_2)\u001b[39;00m\n\u001b[1;32m    145\u001b[0m         \u001b[38;5;28;01mreturn\u001b[39;00m total_loss, outputs\n\u001b[0;32m--> 147\u001b[0m \u001b[38;5;28mprint\u001b[39m(total_loss)\n",
      "\u001b[0;31mNameError\u001b[0m: name 'total_loss' is not defined"
     ]
    }
   ],
   "source": [
    "import os\n",
    "import torch\n",
    "import torch.nn as nn\n",
    "import torch.nn.functional as F\n",
    "import torch.optim as optim\n",
    "from torch.utils.data import TensorDataset, DataLoader\n",
    "#from datetime import datetime\n",
    "import numpy as np\n",
    "from sklearn.metrics import r2_score\n",
    "from network import SingleNet\n",
    "from utils import get_filename\n",
    "# from xgboost import XGBClassifier\n",
    "\n",
    "\n",
    "# class NeuralModel():\n",
    "#     def __init__(self, logger, n_estimators, lr, max_depth, random_state):\n",
    "#         self.n_estimators = n_estimators\n",
    "#         self.lr = lr\n",
    "#         self.max_depth = max_depth                    # learning rate\n",
    "#         self.random_state = random_state\n",
    "\n",
    "#         #add logger\n",
    "#         self.logger = logger\n",
    "#         if self.mode == 'single':\n",
    "#             self.model = SingleNet(n_estimators=opt.n_estimators, lr=opt.lr, max_depth=opt.max_depth, \n",
    "#                                     random_state=opt.random_state).cuda()         \n",
    "        # if self.mode == 'single':\n",
    "        #     self.model = SingleNet(input_dim=input_dim, hidden_dim=hidden_dim, \n",
    "        #                            output_dim=output_dim).cuda()  \n",
    "\n",
    "\n",
    "class NeuralModel():\n",
    "    def __init__(self, logger, mode, batch_size, lr, epochs, input_dim, hidden_dim, \n",
    "                 output_dim):\n",
    "        self.mode = mode\n",
    "        self.batch_size = batch_size\n",
    "        self.lr = lr                    # learning rate\n",
    "        self.epochs = epochs\n",
    "\n",
    "        #add logger\n",
    "        self.logger = logger\n",
    "                \n",
    "        if self.mode == 'single':\n",
    "            self.model = SingleNet(input_dim=input_dim, hidden_dim=hidden_dim, \n",
    "                                   output_dim=output_dim).cuda()  \n",
    "        \n",
    "\n",
    "    #fit \n",
    "    def forward(self, X, y):\n",
    "        self.fit(X, y)\n",
    "\n",
    "    def fit(self, X, y):\n",
    "        self.X_tr, self.X_te = X\n",
    "        self.y_tr, self.y_te = y\n",
    "\n",
    "        #dataset 만들기\n",
    "        dataset_tr = get_data(self.X_tr, self.y_tr)\n",
    "        dataset_te = get_data(self.X_te, self.y_te)\n",
    "        #iteration용 데이터셋 만들기, dataloader 찾아보기\n",
    "        dataloader_tr = DataLoader(dataset_tr, batch_size=self.batch_size, shuffle=True)\n",
    "        dataloader_te = DataLoader(dataset_te, batch_size=self.batch_size, shuffle=True)        \n",
    "        best_loss = np.inf #loss 무한대로 선언. 줄여가려고\n",
    "        self.logger.info(f\"[Train MODE] Training Model\") \n",
    "        name = get_filename('model_save', 'model', '.pt')\n",
    "\n",
    "\n",
    "        for epoch in range(self.epochs): #여러개의 iteration이 끝나면 epoch 1번 완료\n",
    "            loss_tr,_ = self.train(self.model, dataloader_tr)\n",
    "            if epoch % 10 == 0: \n",
    "                loss_te, te_outputs = self.valid(self.model, dataloader_te) #validation loss랑 train 했을 때 loss 볼 수 있게\n",
    "\n",
    "            \n",
    "            if best_loss > loss_te:\n",
    "                best_loss = loss_te\n",
    "                self.best_model = self.model\n",
    "                self.best_outputs = te_outputs\n",
    "                self.best_epoch = epoch\n",
    "                torch.save(self.best_model, os.path.join('model_save', name))   # save best model의 parameter 파일로 저장\n",
    "        self.logger.info(f\"best loss is {best_loss:.4f} in [{self.best_epoch}/{self.epochs}]epoch, save model to {os.path.join('model_save', name)}\")                \n",
    "        print(f\"best loss is {best_loss:.4f} in [{self.best_epoch}/{self.epochs}]epoch\")\n",
    "\n",
    "        return self.best_outputs\n",
    "\n",
    "    def predict(self, X):\n",
    "        return self.model(X)\n",
    "\n",
    "    def train(self, model, train_loader):   #train_loader = 데이터셋 가져옴     \n",
    "        optimizer = optim.Adam(model.parameters(), lr=self.lr)\n",
    "        model.train()\n",
    "\n",
    "        total_loss = 0.\n",
    "        \n",
    "        outputs = torch.Tensor().cuda()\n",
    "\n",
    "        \n",
    "        for data, Yp, Yn in train_loader:   #데이터 x 타겟 y\n",
    "            optimizer.zero_grad() #그라디언트 0으로 초기화\n",
    "        \n",
    "        \n",
    "            output = model(data)\n",
    "            criterion = nn.TripletMarginLoss(margin=1.0, p=2)\n",
    "            loss = criterion(output, Yp, Yn)\n",
    "#             criterion = nn.CrossEntropyLoss()\n",
    "#             loss = criterion(output, target)\n",
    "            \n",
    "            ## backpropagation\n",
    "            loss.backward()\n",
    "            optimizer.step()\n",
    "            ## Logging\n",
    "            total_loss += loss.item()\n",
    "            outputs = torch.cat((outputs, output)) #outputs랑 output 합치기\n",
    "        total_loss /= len(train_loader) #loss 평균값구하기///len(train_loader) 가 iteration 갯수, \n",
    "\n",
    "        return total_loss,  outputs \n",
    "\n",
    "    def valid(self, model, valid_loader): #한 epoch가 끝날 때마다 train이 제대로 되었는지 확인하기 위해서\n",
    "        model.eval()\n",
    "\n",
    "        ## Valid start    \n",
    "        total_loss = 0.\n",
    "        \n",
    "        outputs = torch.Tensor().cuda()\n",
    "        # r2_res = 0\n",
    "        with torch.no_grad():\n",
    "            for data, target in valid_loader:\n",
    "             \n",
    "                output = model(data)\n",
    "                criterion = nn.TripletMarginLoss(margin=1.0, p=2)\n",
    "                loss = criterion(output, Yp, Yn)\n",
    "#                 criterion = nn.CrossEntropyLoss()\n",
    "#                 loss = criterion(output, target)\n",
    "\n",
    "                true = target.cpu().detach().numpy().squeeze()\n",
    "                pred = output.cpu().detach().numpy().squeeze()            \n",
    "                # Accuracy_2 += accuracy(true,pred)\n",
    "                # r2_res += r2_score(true, pred) #실제값과 예측값에 대한 r2 계산\n",
    "                total_loss += loss.item()\n",
    "                outputs = torch.cat((outputs, output))\n",
    "        total_loss /= len(valid_loader) #len(-) = iteration 횟수\n",
    "        #total_dot_loss /= len(valid_loader)\n",
    "        # Accuracy_2 /= len(valid_loader)\n",
    "        # r2_res /= len(valid_loader)\n",
    "        print(total_loss)\n",
    "        # print(Accuracy_2)\n",
    "        return total_loss, outputs\n",
    "    \n"
   ]
  },
  {
   "cell_type": "code",
   "execution_count": 57,
   "metadata": {},
   "outputs": [
    {
     "ename": "NameError",
     "evalue": "name 'total_loss' is not defined",
     "output_type": "error",
     "traceback": [
      "\u001b[0;31m---------------------------------------------------------------------------\u001b[0m",
      "\u001b[0;31mNameError\u001b[0m                                 Traceback (most recent call last)",
      "Cell \u001b[0;32mIn [57], line 1\u001b[0m\n\u001b[0;32m----> 1\u001b[0m total_loss\n",
      "\u001b[0;31mNameError\u001b[0m: name 'total_loss' is not defined"
     ]
    }
   ],
   "source": [
    "total_loss"
   ]
  },
  {
   "cell_type": "code",
   "execution_count": 54,
   "metadata": {},
   "outputs": [],
   "source": [
    "def main():\n",
    "\n",
    "   \n",
    "    # input_data = make_data('A-1/configs/A-1/*.cnf')\n",
    "    input_data = make_data('../data/A-1/configs/A-1/*.cnf')\n",
    "    # print(input_data)\n",
    "    # assert False\n",
    "    # clus=pd.read_csv(\"../data/clustering2.csv\")\n",
    "    # one_hot = pd.get_dummies(clus, columns=['cluster'])\n",
    "    if opt.train:\n",
    "        # accuracy, true, pred, df_pred = train_Net(logger, data=input_data, METRIC=opt.external, MODE=opt.mode, \n",
    "        #                                                batch_size=opt.batch_size, lr=opt.lr, epochs=opt.epochs, \n",
    "        #                                                 hidden_dim=opt.hidden_size) \n",
    "\n",
    "        # true, pred, df_pred = train_Net(logger, data=input_data, METRIC=opt.external, \n",
    "        #                                                 n_estimators=opt.n_estimators, lr=opt.lr, max_depth=opt.max_depth, \n",
    "        #                                                  random_state=opt.random_state) \n",
    "\n",
    "        true, pred, df_pred = train_Net(data=input_data, METRIC=opt.external, MODE=opt.mode, \n",
    "                                                        batch_size=opt.batch_size, lr=opt.lr, epochs=opt.epochs, \n",
    "                                                         hidden_dim=opt.hidden_size) \n",
    "        logger.info(f'\\npred = \\n{pred[:]}')\n",
    "        #, {np.exp(pred[:5])}\n",
    "        logger.info(f'\\ntrue = \\n{true[:]}')\n",
    "        #{np.exp(true[:5])}\n",
    "        #logger.info(f'\\naccuracy(mean_squared_error) = {mean_squared_error(true, pred)}\\naccuracy(mean_absolute_error) = {mean_absolute_error(true, pred)}')\n",
    "        logger.info(f'\\nMetric : {opt.external}')\n",
    "        # logger.info(f'  (r2 score) = {r2:.4f}')\n",
    "        # logger.info(f'  (MSE score) = {MSE:.4f}')\n",
    "\n",
    "            \n",
    "    elif opt.eval:\n",
    "        logger.info('## EVAL MODE ##')\n",
    "\n",
    "\n",
    "# if __name__ == '__main__':\n",
    "#     try:\n",
    "#         main(\n",
    "#         print(\"F\")\n",
    "#     except:\n",
    "#         logger.exception(\"ERROR!!\")\n",
    "#     finally:\n",
    "#         logger.handlers.clear()"
   ]
  },
  {
   "cell_type": "code",
   "execution_count": 78,
   "metadata": {},
   "outputs": [],
   "source": [
    "triplet_loss = nn.TripletMarginLoss(margin=1.0, p=2)\n",
    "anchor = torch.randn(100, 128, requires_grad=True)\n",
    "positive = torch.randn(100, 128, requires_grad=True)\n",
    "negative = torch.randn(100, 128, requires_grad=True)\n",
    "output = triplet_loss(anchor, positive, negative)"
   ]
  },
  {
   "cell_type": "code",
   "execution_count": 75,
   "metadata": {},
   "outputs": [
    {
     "data": {
      "text/plain": [
       "tensor([[ 2.0848,  0.3601,  0.2467,  ..., -0.3569, -1.2839,  0.6674],\n",
       "        [-0.3679, -0.3598,  1.2501,  ..., -0.6086, -0.3148, -0.8492],\n",
       "        [-1.2329,  0.3450, -0.6445,  ..., -0.0558,  1.3920,  0.3900],\n",
       "        ...,\n",
       "        [-0.3393, -0.7883, -0.9049,  ...,  0.1011, -0.1585, -2.6008],\n",
       "        [ 0.3839, -0.2412, -1.0166,  ...,  0.5469, -0.4766, -0.4923],\n",
       "        [ 0.8488, -1.4226,  0.0170,  ...,  0.7373,  0.3377, -1.1400]],\n",
       "       requires_grad=True)"
      ]
     },
     "execution_count": 75,
     "metadata": {},
     "output_type": "execute_result"
    }
   ],
   "source": [
    "anchor\n",
    "\"---------------------------\"\n",
    "positive\n",
    "\"---------------------------\"\n",
    "negative"
   ]
  },
  {
   "cell_type": "code",
   "execution_count": 79,
   "metadata": {},
   "outputs": [
    {
     "data": {
      "text/plain": [
       "tensor(1.1177, grad_fn=<MeanBackward0>)"
      ]
     },
     "execution_count": 79,
     "metadata": {},
     "output_type": "execute_result"
    }
   ],
   "source": [
    "output"
   ]
  },
  {
   "cell_type": "code",
   "execution_count": null,
   "metadata": {},
   "outputs": [],
   "source": []
  }
 ],
 "metadata": {
  "kernelspec": {
   "display_name": "Python 3 (ipykernel)",
   "language": "python",
   "name": "python3"
  },
  "language_info": {
   "codemirror_mode": {
    "name": "ipython",
    "version": 3
   },
   "file_extension": ".py",
   "mimetype": "text/x-python",
   "name": "python",
   "nbconvert_exporter": "python",
   "pygments_lexer": "ipython3",
   "version": "3.9.13"
  }
 },
 "nbformat": 4,
 "nbformat_minor": 2
}
